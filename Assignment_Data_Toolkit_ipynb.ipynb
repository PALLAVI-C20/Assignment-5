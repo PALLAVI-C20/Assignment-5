{
  "nbformat": 4,
  "nbformat_minor": 0,
  "metadata": {
    "colab": {
      "provenance": []
    },
    "kernelspec": {
      "name": "python3",
      "display_name": "Python 3"
    },
    "language_info": {
      "name": "python"
    }
  },
  "cells": [
    {
      "cell_type": "markdown",
      "source": [
        "# **1. What is NumPy, and why is it widely used in Python**\n",
        "\n",
        " NumPy (short for Numerical Python) is a powerful open-source Python library designed for numerical computing.\n",
        "\n",
        "It’s widely used because it provides:\n",
        "\n",
        "1. Multidimensional Arrays (ndarray)\n",
        "Unlike Python lists, NumPy arrays are homogeneous (all elements have the same type) and stored in contiguous memory, making them much faster for numerical operations.\n",
        "\n",
        "Supports n-dimensional arrays (1D, 2D, 3D, etc.).\n",
        "\n",
        "2. High Performance\n",
        "Operations on NumPy arrays are implemented in C and optimized for speed, so they can be 10–100x faster than pure Python loops.\n",
        "\n",
        "Supports vectorization — applying operations to entire arrays without explicit loops.\n",
        "\n",
        "3. Rich Mathematical Functions\n",
        "Built-in functions for:\n",
        "\n",
        "- Linear algebra\n",
        "- Fourier transforms\n",
        "-Random number generation\n",
        "-Statistical analysis\n",
        "- Element-wise operations\n",
        "\n",
        "4. Interoperability\n",
        "Works well with other scientific computing libraries like Pandas, Matplotlib, SciPy, Scikit-learn.Easily integrates with C, C++, and Fortran code.\n",
        "\n",
        "\n",
        "\n",
        "\n",
        "\n"
      ],
      "metadata": {
        "id": "R0_mn2ccpcw0"
      }
    },
    {
      "cell_type": "markdown",
      "source": [
        "#**2. How does broadcasting work in NumPy**\n",
        "\n",
        "1. When NumPy operates on two arrays:\n",
        "\n",
        "2. Compare shapes from right to left (starting with the last dimension).\n",
        "\n",
        "- Two dimensions are compatible if:\n",
        "- They are equal, OR\n",
        "- One of them is 1.\n",
        "\n",
        "3. If a dimension is 1, NumPy stretches it to match the other dimension during computation.\n",
        "\n",
        "If after this comparison, all dimensions match, the operation proceeds; otherwise, it throws a ValueError."
      ],
      "metadata": {
        "id": "wMzmTYpOpxqc"
      }
    },
    {
      "cell_type": "markdown",
      "source": [
        "# **3.  What is a Pandas DataFrame**\n",
        "\n",
        "A Pandas DataFrame is a two-dimensional, tabular data structure in Python provided by the Pandas library.\n",
        "\n",
        "Think of it like an Excel spreadsheet or a SQL table, but inside Python — with rows and columns, each column potentially holding different data types."
      ],
      "metadata": {
        "id": "Pbdu9RMGpuu_"
      }
    },
    {
      "cell_type": "markdown",
      "source": [
        "# **4. Explain the use of the groupby() method in Pandas**\n",
        "\n",
        "In Pandas, the groupby() method is used to split data into groups based on one or more keys (usually column values), so you can apply operations like aggregation, transformation, or filtering to each group separately.\n",
        "\n",
        "It’s often described as the Split–Apply–Combine process:\n",
        "\n",
        "- Split – Divide the DataFrame into groups based on column(s).\n",
        "\n",
        "- Apply – Perform some operation on each group (e.g., sum, mean, count).\n",
        "\n",
        "- Combine – Merge the results back into a new DataFrame or Series."
      ],
      "metadata": {
        "id": "C8R5JdHBqU_y"
      }
    },
    {
      "cell_type": "markdown",
      "source": [
        "# **5.  Why is Seaborn preferred for statistical visualizations**\n",
        "\n",
        "Reasons Seaborn is Preferred\n",
        "1. Beautiful Default Styles\n",
        "Comes with attractive color palettes, themes, and layouts out-of-the-box.\n",
        "\n",
        "No need to tweak a lot of styling options like in Matplotlib.\n",
        "\n",
        "2. Integration with Pandas\n",
        "Works directly with DataFrames and column names.\n",
        "\n",
        "Automatically handles grouping, aggregation, and labeling.\n",
        "\n",
        "3. Built-in Statistical Functions\n",
        "Can easily create plots that include:\n",
        "\n",
        "Regression lines (regplot)\n",
        "\n",
        "Distribution estimates (distplot, histplot, kdeplot)\n",
        "\n",
        "Categorical comparisons (boxplot, violinplot, stripplot)\n",
        "\n",
        "4. Complex Plots with Simple Syntax\n",
        "A few lines of code can produce plots that would take much more effort in Matplotlib.\n",
        "\n",
        "5. Automatic Handling of Data\n",
        "Adds statistical elements like confidence intervals or trend lines without manual computation"
      ],
      "metadata": {
        "id": "-p01mWqaqfzu"
      }
    },
    {
      "cell_type": "markdown",
      "source": [
        "# **6.  What are the differences between NumPy arrays and Python lists**\n",
        "\n",
        "A NumPy array is a powerful, fixed-type, multidimensional data structure optimized for numerical computation, while a Python list is a more general, flexible container that can hold mixed data types. NumPy arrays store elements in contiguous memory and use homogeneous data types, making them much faster and more memory-efficient than lists for large-scale numerical operations. They support vectorized operations and a wide range of mathematical functions, enabling element-wise computations without explicit loops. In contrast, Python lists store references to objects, which increases memory usage and slows down numerical processing, requiring manual iteration for arithmetic operations. Because of these differences, NumPy arrays are preferred in scientific computing, data analysis, and machine learning, where speed, efficiency, and advanced numerical capabilities are essential."
      ],
      "metadata": {
        "id": "j9u6gYmZqrLM"
      }
    },
    {
      "cell_type": "markdown",
      "source": [
        "# **7. What is a heatmap, and when should it be used**\n",
        "\n",
        "A heatmap is a data visualization technique that represents values in a matrix or table using color gradients instead of numbers.\n",
        "Each cell’s color intensity corresponds to its magnitude — darker, brighter, or more saturated colors often indicate higher values, while lighter shades indicate lower values.\n",
        "\n",
        "When to Use a Heatmap\n",
        "Showing correlations between variables (e.g., correlation matrix in data analysis).\n",
        "\n",
        "Highlighting patterns or trends in large datasets where raw numbers are hard to interpret.\n",
        "\n",
        "Visualizing distributions or intensity (e.g., website click heatmaps, geographical temperature maps).\n",
        "\n",
        "Identifying outliers or unusual values quickly.\n",
        "\n",
        "Comparing categories when both axes represent distinct variables."
      ],
      "metadata": {
        "id": "PPXDGWQsq-xW"
      }
    },
    {
      "cell_type": "markdown",
      "source": [
        "# **8.  What does the term “vectorized operation” mean in NumPy**\n",
        "\n",
        "In NumPy, a vectorized operation means performing a mathematical or logical operation on entire arrays at once without using explicit Python loops.\n",
        "\n",
        "Instead of processing elements one-by-one (as you would with a Python for loop), NumPy applies the operation to all elements simultaneously using highly optimized C code under the hood."
      ],
      "metadata": {
        "id": "7LcAVICmrIav"
      }
    },
    {
      "cell_type": "markdown",
      "source": [
        "# **9. How does Matplotlib differ from Plotly**\n",
        "\n",
        "Matplotlib is a widely used Python library for creating static, publication-quality plots, offering high customization and control over every element, but often requiring more code for complex visualizations. It’s ideal for academic reports, printed publications, and scenarios where interactivity isn’t necessary. Plotly, on the other hand, focuses on creating interactive visualizations by default, allowing users to zoom, pan, hover for tooltips, and even export interactive HTML files with minimal effort. It excels in building dashboards, web apps, and exploratory data analysis where user interaction is valuable, and it integrates seamlessly with tools like Dash. While Matplotlib is better suited for detailed static figures, Plotly makes it easier to create advanced, interactive charts such as 3D plots, maps, and animations with simpler syntax."
      ],
      "metadata": {
        "id": "vYfgTC_9rQBT"
      }
    },
    {
      "cell_type": "markdown",
      "source": [
        "# **10.  What is the significance of hierarchical indexing in Pandas**\n",
        "\n",
        "In Pandas, hierarchical indexing (also called a MultiIndex) allows a DataFrame or Series to have multiple levels of index labels instead of just one.\n",
        "\n",
        "This means each row (or column) can be identified by more than one key, creating a tree-like structure for indexing and grouping data.\n",
        "\n",
        "Significance\n",
        "Better organization of complex data\n",
        "\n",
        "Useful when working with datasets that naturally have multiple dimensions (e.g., data for multiple cities over multiple years).\n",
        "\n",
        "Easier data analysis\n",
        "\n",
        "You can group, filter, and reshape data more easily without having to merge or create extra columns.\n",
        "\n",
        "Supports advanced operations\n",
        "\n",
        "Works seamlessly with methods like .loc[], .groupby(), .stack(), .unstack(), and pivot tables.\n",
        "\n",
        "Compact representation\n",
        "\n",
        "Reduces redundancy by avoiding repeated labels in flat indexes."
      ],
      "metadata": {
        "id": "tdFe5FgvsHVU"
      }
    },
    {
      "cell_type": "markdown",
      "source": [
        "# **11.  What is the role of Seaborn’s pairplot() function**\n",
        "\n",
        "In Seaborn, the pairplot() function is used to create a grid of scatter plots showing pairwise relationships between multiple numerical variables, with histograms or KDE plots displayed along the diagonal to represent individual distributions. It is especially useful in exploratory data analysis (EDA), as it provides a quick visual summary of correlations, patterns, and trends in a dataset. By using the hue parameter, pairplot() can also color-code points based on a categorical variable, making it easier to compare groups within the data. This function is widely used for identifying relationships between features, spotting clusters or outliers, and gaining initial insights before detailed analysis."
      ],
      "metadata": {
        "id": "ahSbBwMbsQvx"
      }
    },
    {
      "cell_type": "markdown",
      "source": [
        "# **12.  What is the purpose of the describe() function in Pandas**\n",
        "\n",
        "In Pandas, the describe() function is used to generate summary statistics of a DataFrame or Series, giving a quick overview of the dataset’s central tendency, dispersion, and distribution of values.\n",
        "\n",
        "By default, it works on numerical columns and returns metrics like count, mean, standard deviation, minimum, 25% percentile, median (50%), 75% percentile, and maximum. For object or categorical data, it provides counts, unique values, most frequent value (top), and its frequency (freq) when include='object' is specified.\n",
        "\n",
        "This function is particularly useful in exploratory data analysis (EDA) to quickly understand data distribution, detect outliers, and spot missing values before applying further statistical or machine learning techniques."
      ],
      "metadata": {
        "id": "AKLRG-yosZlS"
      }
    },
    {
      "cell_type": "markdown",
      "source": [
        "# **13.  Why is handling missing data important in Pandas**\n",
        "\n",
        "Handling missing data in Pandas is important because unaddressed gaps can lead to inaccurate analysis, biased results, or even errors in calculations and model training. Missing values (NaN or None) can distort statistical measures like mean, median, and correlation, and many algorithms in machine learning cannot work with incomplete datasets.\n",
        "\n",
        "By identifying and handling missing data — whether through removal (dropna()), imputation (fillna()), or other domain-specific strategies — we ensure data integrity, reliability, and consistency. Proper handling also improves the quality of visualizations and prevents misleading interpretations, making it a critical step in data cleaning and preprocessing before any meaningful analysis or modeling."
      ],
      "metadata": {
        "id": "CQZYlfo-sg9Q"
      }
    },
    {
      "cell_type": "markdown",
      "source": [
        "# **14. What are the benefits of using Plotly for data visualization**\n",
        "\n",
        "Plotly offers several benefits for data visualization, especially when interactivity and presentation quality are important. Being an interactive visualization library, it allows users to create plots that can be zoomed, panned, hovered over for tooltips, and exported as HTML for sharing without losing functionality. It supports a wide range of charts, including basic plots (line, bar, scatter), advanced visualizations (3D plots, heatmaps, maps, animations), and specialized charts for finance and science. Plotly integrates well with Pandas, NumPy, and Dash, making it easy to turn analyses into full interactive dashboards. Its syntax is relatively simple for complex plots, and the output is visually appealing without extensive styling work. Overall, Plotly is particularly beneficial for exploratory data analysis, interactive reporting, and web-based dashboards where engaging and dynamic visualizations enhance understanding and communication."
      ],
      "metadata": {
        "id": "-i9G7tCXsnh0"
      }
    },
    {
      "cell_type": "markdown",
      "source": [
        "# **15. How does NumPy handle multidimensional arrays**\n",
        "\n",
        "NumPy handles multidimensional arrays using its core data structure called the ndarray (n-dimensional array), which can store data in any number of dimensions — from 1D (vectors) to 2D (matrices) to 3D and beyond (tensors).\n",
        "\n",
        "Internally, a NumPy array is stored as a contiguous block of memory with metadata that defines:\n",
        "\n",
        "Shape → the size along each dimension (e.g., (3, 4, 5) means 3×4×5 array).\n",
        "\n",
        "Data type (dtype) → ensures all elements are of the same type for efficiency.\n",
        "\n",
        "Strides → the number of bytes to step in each dimension when traversing the array.\n",
        "\n",
        "This structure allows NumPy to:\n",
        "\n",
        "Access elements very quickly using index notation like arr[1, 2, 3].\n",
        "\n",
        "Perform operations vectorized across all dimensions without explicit loops.\n",
        "\n",
        "Reshape, transpose, and slice arrays efficiently without copying data."
      ],
      "metadata": {
        "id": "pv2ZUOV_swmr"
      }
    },
    {
      "cell_type": "markdown",
      "source": [
        "# **16.  What is the role of Bokeh in data visualization**\n",
        "\n",
        "Bokeh is a Python library for creating interactive, web-ready visualizations that can be easily embedded in browsers, dashboards, and web applications without requiring JavaScript knowledge. It enables data scientists and analysts to produce dynamic charts with features like zooming, panning, hover tooltips, and clickable selections, making data exploration more engaging. Bokeh supports a wide range of plot types, including line, bar, scatter, heatmaps, network graphs, and maps, and it can handle large or streaming datasets efficiently. It also integrates well with Jupyter Notebooks and web frameworks like Flask and Django, and it allows the creation of interactive dashboards with widgets such as sliders and dropdowns. Overall, Bokeh’s role in data visualization is to bridge Python-based data analysis with interactive, shareable, and visually appealing outputs for the web."
      ],
      "metadata": {
        "id": "DzNG0sles4Fo"
      }
    },
    {
      "cell_type": "markdown",
      "source": [
        "# **17.  Explain the difference between apply() and map() in Pandas**\n",
        "\n",
        "In Pandas, map() and apply() are both used to apply functions to data, but they differ in scope and flexibility. The map() function works only on a Series and is used for element-wise transformations, accepting a function, dictionary, or another Series for mapping values. In contrast, apply() works on both Series and DataFrames and is more flexible, allowing you to apply functions either element-wise (on a Series) or row-wise/column-wise (on a DataFrame) by specifying the axis parameter. While map() is best for simple, one-dimensional transformations, apply() is preferred for more complex operations involving multiple rows or columns."
      ],
      "metadata": {
        "id": "K5bEEJOTtHMG"
      }
    },
    {
      "cell_type": "markdown",
      "source": [
        "# **18. What are some advanced features of NumPy**\n",
        "\n",
        "1. Broadcasting\n",
        "Allows arithmetic operations on arrays of different shapes without explicit looping.\n",
        "\n",
        "Saves memory and makes code concise.\n",
        "\n",
        "2. Vectorization\n",
        "Performs operations on entire arrays at once using optimized C code, avoiding slow Python loops.\n",
        "\n",
        "3. Advanced Indexing & Slicing\n",
        "Supports boolean indexing, fancy indexing (using integer arrays), and slicing with steps.\n",
        "\n",
        "Enables complex filtering and subsetting of data.\n",
        "\n",
        "4. Linear Algebra Functions\n",
        "Includes matrix multiplication, determinant, eigenvalues, singular value decomposition, and more (np.linalg module).\n",
        "\n",
        "5. Random Number Generation\n",
        "numpy.random provides tools for generating random numbers, sampling, and simulating distributions.\n",
        "\n",
        "6. FFT (Fast Fourier Transform)\n",
        "np.fft module allows frequency domain analysis for signals and time series.\n",
        "\n",
        "7. Memory Views & Striding\n",
        "Uses strides to create new array views without copying data (efficient for reshaping and slicing).\n",
        "\n",
        "8. Masked Arrays\n",
        "Handles missing or invalid values in computations using numpy.ma.\n",
        "\n",
        "9. Integration with Other Languages\n",
        "Can share data with C, C++, and Fortran without copying, making it useful for high-performance computing.\n",
        "\n",
        "10. Structured & Record Arrays\n",
        "Store heterogeneous data types in a single array with named fields."
      ],
      "metadata": {
        "id": "UVBYwhWmtSRN"
      }
    },
    {
      "cell_type": "markdown",
      "source": [
        "# **19.  How does Pandas simplify time series analysis**\n",
        "\n",
        "Pandas simplifies time series analysis by providing specialized date and time handling capabilities that make it easy to work with temporal data. It has built-in date/time data types (datetime64[ns], Timedelta, Period) and powerful indexing with DatetimeIndex, allowing time-based selection, slicing, and alignment. Pandas supports resampling to change the frequency of data (e.g., daily to monthly), shifting and lagging for trend analysis, and rolling/expanding windows for moving averages or cumulative calculations. It can automatically parse date strings, handle time zone conversions, and perform period-based grouping (like grouping by month, quarter, or year) with minimal code. These features make it possible to efficiently clean, transform, and analyze time series data without manually handling complex date manipulations."
      ],
      "metadata": {
        "id": "YOiLr7rYtbTy"
      }
    },
    {
      "cell_type": "markdown",
      "source": [
        "# **20.  What is the role of a pivot table in Pandas**\n",
        "\n",
        "In Pandas, a pivot table is used to summarize, reorganize, and aggregate data in a DataFrame, allowing you to transform long-format data into a more structured table for analysis. It works similarly to Excel’s pivot tables, where you specify one or more columns as index (rows), one or more columns as columns (headers), and a values column to aggregate, using functions like sum, mean, count, etc.\n",
        "\n",
        "Pivot tables help in quickly grouping data, performing multi-level aggregation, and making datasets more readable. They are especially useful for categorical summarization, such as comparing sales across regions and months or analyzing average scores by department and gender. In Pandas, this is done with the pivot_table() function, which offers flexibility in aggregation and handling missing data."
      ],
      "metadata": {
        "id": "RC6B9E-OtjFr"
      }
    },
    {
      "cell_type": "markdown",
      "source": [
        "# **21. Why is NumPy’s array slicing faster than Python’s list slicing**\n",
        "\n",
        "NumPy’s array slicing is faster than Python’s list slicing because of how the data is stored and accessed in memory.\n",
        "\n",
        "NumPy arrays are stored as contiguous blocks of memory with elements of the same fixed data type, so slicing simply creates a view into the existing memory without copying the data. This means NumPy doesn’t need to iterate over elements one by one — it just adjusts metadata (like shape, strides, and offset) to point to the right memory segment.\n",
        "\n",
        "In contrast, Python lists store references to objects scattered in memory, and slicing creates a new list by copying each reference, which takes more time and memory. The lack of type uniformity also prevents Python lists from using low-level vectorized operations, making them inherently slower.\n",
        "\n",
        "So in short: NumPy slicing is faster because it’s just a metadata change, while Python list slicing is an actual data-copying operation."
      ],
      "metadata": {
        "id": "f3Ifaxywtqiy"
      }
    },
    {
      "cell_type": "markdown",
      "source": [
        "# **22. What are some common use cases for Seaborn?**\n",
        "\n",
        "Seaborn is widely used for creating statistical visualizations that are both informative and visually appealing. Some common use cases include:\n",
        "\n",
        "Exploratory Data Analysis (EDA) → Quickly understanding distributions, relationships, and patterns in data.\n",
        "\n",
        "Visualizing Distributions → Using plots like histplot, kdeplot, and rugplot to show the spread of data.\n",
        "\n",
        "Comparing Categories → With barplot, countplot, boxplot, and violinplot to compare groups.\n",
        "\n",
        "Correlation Analysis → Creating heatmaps of correlation matrices to identify variable relationships.\n",
        "\n",
        "Pairwise Relationships → Using pairplot to show scatter plots and histograms for all variable combinations."
      ],
      "metadata": {
        "id": "9ZezHO5Gtxxg"
      }
    },
    {
      "cell_type": "markdown",
      "source": [
        "# **Practical**"
      ],
      "metadata": {
        "id": "e7EmWZZCt5Fd"
      }
    },
    {
      "cell_type": "markdown",
      "source": [
        "# **1. How do you create a 2D NumPy array and calculate the sum of each row**"
      ],
      "metadata": {
        "id": "Vc1Hj4xdt7cM"
      }
    },
    {
      "cell_type": "code",
      "source": [
        "import numpy as np\n",
        "\n",
        "arr = np.array([[1, 2, 3],\n",
        "                [4, 5, 6],\n",
        "                [7, 8, 9]])\n",
        "\n",
        "row_sums = np.sum(arr, axis=1)\n",
        "\n",
        "print(\"2D Array:\\n\", arr)\n",
        "print(\"Sum of each row:\", row_sums)"
      ],
      "metadata": {
        "colab": {
          "base_uri": "https://localhost:8080/"
        },
        "id": "rWoyanFut_FX",
        "outputId": "9877a3ab-acfa-434b-d761-2757cd35ff42"
      },
      "execution_count": 1,
      "outputs": [
        {
          "output_type": "stream",
          "name": "stdout",
          "text": [
            "2D Array:\n",
            " [[1 2 3]\n",
            " [4 5 6]\n",
            " [7 8 9]]\n",
            "Sum of each row: [ 6 15 24]\n"
          ]
        }
      ]
    },
    {
      "cell_type": "markdown",
      "source": [
        "# **2. Write a Pandas script to find the mean of a specific column in a DataFrame**"
      ],
      "metadata": {
        "id": "D4re4CwTuGZm"
      }
    },
    {
      "cell_type": "code",
      "source": [
        "import pandas as pd\n",
        "\n",
        "\n",
        "data = {\n",
        "    'Name': ['Alice', 'Bob', 'Charlie', 'David'],\n",
        "    'Age': [25, 30, 35, 40],\n",
        "    'Salary': [50000, 60000, 75000, 80000]\n",
        "}\n",
        "\n",
        "df = pd.DataFrame(data)\n",
        "\n",
        "\n",
        "mean_salary = df['Salary'].mean()\n",
        "\n",
        "print(\"Mean Salary:\", mean_salary)"
      ],
      "metadata": {
        "colab": {
          "base_uri": "https://localhost:8080/"
        },
        "id": "mA1yqigJuKff",
        "outputId": "5d85a1bb-e560-49e8-a9a7-cae5f07f8f68"
      },
      "execution_count": 4,
      "outputs": [
        {
          "output_type": "stream",
          "name": "stdout",
          "text": [
            "Mean Salary: 66250.0\n"
          ]
        }
      ]
    },
    {
      "cell_type": "markdown",
      "source": [
        "# **3.  Create a scatter plot using Matplotlib**"
      ],
      "metadata": {
        "id": "fHkeARi_uW5Z"
      }
    },
    {
      "cell_type": "code",
      "source": [
        "import matplotlib.pyplot as plt\n",
        "\n",
        "# Sample data\n",
        "x = [5, 7, 8, 7, 6, 9, 5, 6, 7, 8]\n",
        "y = [99, 86, 87, 88, 100, 86, 103, 87, 94, 78]\n",
        "\n",
        "# Create scatter plot\n",
        "plt.scatter(x, y, color='blue', marker='o')\n",
        "\n",
        "# Add labels and title\n",
        "plt.xlabel(\"X-axis Label\")\n",
        "plt.ylabel(\"Y-axis Label\")\n",
        "plt.title(\"Sample Scatter Plot\")\n",
        "\n",
        "# Display plot\n",
        "plt.show()"
      ],
      "metadata": {
        "colab": {
          "base_uri": "https://localhost:8080/",
          "height": 472
        },
        "id": "PcMdfXDJuaqC",
        "outputId": "055daea2-7f53-4b53-f325-4d129e8380ed"
      },
      "execution_count": 5,
      "outputs": [
        {
          "output_type": "display_data",
          "data": {
            "text/plain": [
              "<Figure size 640x480 with 1 Axes>"
            ],
            "image/png": "[encoded data removed]"
          },
          "metadata": {}
        }
      ]
    },
    {
      "cell_type": "markdown",
      "source": [
        "# **4. How do you calculate the correlation matrix using Seaborn and visualize it with a heatmap**"
      ],
      "metadata": {
        "id": "QGSsSAMhuexs"
      }
    },
    {
      "cell_type": "code",
      "source": [
        "import pandas as pd\n",
        "import seaborn as sns\n",
        "import matplotlib.pyplot as plt\n",
        "\n",
        "# Sample DataFrame\n",
        "data = {\n",
        "    'A': [1, 2, 3, 4, 5],\n",
        "    'B': [5, 4, 3, 2, 1],\n",
        "    'C': [2, 3, 4, 5, 6]\n",
        "}\n",
        "\n",
        "df = pd.DataFrame(data)\n",
        "\n",
        "# Calculate correlation matrix\n",
        "corr_matrix = df.corr()\n",
        "\n",
        "# Plot heatmap\n",
        "sns.heatmap(corr_matrix, annot=True, cmap='coolwarm', linewidths=0.5)\n",
        "\n",
        "# Add title\n",
        "plt.title(\"Correlation Matrix Heatmap\")\n",
        "\n",
        "# Display\n",
        "plt.show()"
      ],
      "metadata": {
        "colab": {
          "base_uri": "https://localhost:8080/",
          "height": 452
        },
        "id": "XeSfEgxZukbt",
        "outputId": "35e3367b-dc5f-4fc4-a107-4c98d3268cf5"
      },
      "execution_count": 6,
      "outputs": [
        {
          "output_type": "display_data",
          "data": {
            "text/plain": [
              "<Figure size 640x480 with 2 Axes>"
            ],
            "image/png": "[encoded data removed]"
          },
          "metadata": {}
        }
      ]
    },
    {
      "cell_type": "markdown",
      "source": [
        "# **5. Generate a bar plot using Plotly**"
      ],
      "metadata": {
        "id": "QAd1OhiXuu6R"
      }
    },
    {
      "cell_type": "code",
      "source": [
        "import plotly.express as px\n",
        "import pandas as pd\n",
        "\n",
        "# Sample Data\n",
        "data = {\n",
        "    'Category': ['A', 'B', 'C', 'D'],\n",
        "    'Values': [23, 17, 35, 29]\n",
        "}\n",
        "\n",
        "df = pd.DataFrame(data)\n",
        "\n",
        "# Create bar plot\n",
        "fig = px.bar(df, x='Category', y='Values', title=\"Sample Bar Plot\",\n",
        "             labels={'Category': 'Category Name', 'Values': 'Value Count'},\n",
        "             color='Category')  # Adds color by category\n",
        "\n",
        "# Show plot\n",
        "fig.show()"
      ],
      "metadata": {
        "colab": {
          "base_uri": "https://localhost:8080/",
          "height": 542
        },
        "id": "VgnfJ0_AuzSr",
        "outputId": "3f2d6154-bf62-49c7-88af-d03245d91e10"
      },
      "execution_count": 7,
      "outputs": [
        {
          "output_type": "display_data",
          "data": {
            "text/html": [
              "<html>\n",
              "<head><meta charset=\"utf-8\" /></head>\n",
              "<body>\n",
              "    <div>            <script src=\"https://cdnjs.cloudflare.com/ajax/libs/mathjax/2.7.5/MathJax.js?config=TeX-AMS-MML_SVG\"></script><script type=\"text/javascript\">if (window.MathJax && window.MathJax.Hub && window.MathJax.Hub.Config) {window.MathJax.Hub.Config({SVG: {font: \"STIX-Web\"}});}</script>                <script type=\"text/javascript\">window.PlotlyConfig = {MathJaxConfig: 'local'};</script>\n",
              "        <script charset=\"utf-8\" src=\"https://cdn.plot.ly/plotly-2.35.2.min.js\"></script>                <div id=\"22312637-f878-4504-9837-669925fdcf08\" class=\"plotly-graph-div\" style=\"height:525px; width:100%;\"></div>            <script type=\"text/javascript\">                                    window.PLOTLYENV=window.PLOTLYENV || {};                                    if (document.getElementById(\"22312637-f878-4504-9837-669925fdcf08\")) {                    Plotly.newPlot(                        \"22312637-f878-4504-9837-669925fdcf08\",                        [{\"alignmentgroup\":\"True\",\"hovertemplate\":\"Category Name=%{x}\\u003cbr\\u003eValue Count=%{y}\\u003cextra\\u003e\\u003c\\u002fextra\\u003e\",\"legendgroup\":\"A\",\"marker\":{\"color\":\"#636efa\",\"pattern\":{\"shape\":\"\"}},\"name\":\"A\",\"offsetgroup\":\"A\",\"orientation\":\"v\",\"showlegend\":true,\"textposition\":\"auto\",\"x\":[\"A\"],\"xaxis\":\"x\",\"y\":[23],\"yaxis\":\"y\",\"type\":\"bar\"},{\"alignmentgroup\":\"True\",\"hovertemplate\":\"Category Name=%{x}\\u003cbr\\u003eValue Count=%{y}\\u003cextra\\u003e\\u003c\\u002fextra\\u003e\",\"legendgroup\":\"B\",\"marker\":{\"color\":\"#EF553B\",\"pattern\":{\"shape\":\"\"}},\"name\":\"B\",\"offsetgroup\":\"B\",\"orientation\":\"v\",\"showlegend\":true,\"textposition\":\"auto\",\"x\":[\"B\"],\"xaxis\":\"x\",\"y\":[17],\"yaxis\":\"y\",\"type\":\"bar\"},{\"alignmentgroup\":\"True\",\"hovertemplate\":\"Category Name=%{x}\\u003cbr\\u003eValue Count=%{y}\\u003cextra\\u003e\\u003c\\u002fextra\\u003e\",\"legendgroup\":\"C\",\"marker\":{\"color\":\"#00cc96\",\"pattern\":{\"shape\":\"\"}},\"name\":\"C\",\"offsetgroup\":\"C\",\"orientation\":\"v\",\"showlegend\":true,\"textposition\":\"auto\",\"x\":[\"C\"],\"xaxis\":\"x\",\"y\":[35],\"yaxis\":\"y\",\"type\":\"bar\"},{\"alignmentgroup\":\"True\",\"hovertemplate\":\"Category Name=%{x}\\u003cbr\\u003eValue Count=%{y}\\u003cextra\\u003e\\u003c\\u002fextra\\u003e\",\"legendgroup\":\"D\",\"marker\":{\"color\":\"#ab63fa\",\"pattern\":{\"shape\":\"\"}},\"name\":\"D\",\"offsetgroup\":\"D\",\"orientation\":\"v\",\"showlegend\":true,\"textposition\":\"auto\",\"x\":[\"D\"],\"xaxis\":\"x\",\"y\":[29],\"yaxis\":\"y\",\"type\":\"bar\"}],                        {\"template\":{\"data\":{\"histogram2dcontour\":[{\"type\":\"histogram2dcontour\",\"colorbar\":{\"outlinewidth\":0,\"ticks\":\"\"},\"colorscale\":[[0.0,\"#0d0887\"],[0.1111111111111111,\"#46039f\"],[0.2222222222222222,\"#7201a8\"],[0.3333333333333333,\"#9c179e\"],[0.4444444444444444,\"#bd3786\"],[0.5555555555555556,\"#d8576b\"],[0.6666666666666666,\"#ed7953\"],[0.7777777777777778,\"#fb9f3a\"],[0.8888888888888888,\"#fdca26\"],[1.0,\"#f0f921\"]]}],\"choropleth\":[{\"type\":\"choropleth\",\"colorbar\":{\"outlinewidth\":0,\"ticks\":\"\"}}],\"histogram2d\":[{\"type\":\"histogram2d\",\"colorbar\":{\"outlinewidth\":0,\"ticks\":\"\"},\"colorscale\":[[0.0,\"#0d0887\"],[0.1111111111111111,\"#46039f\"],[0.2222222222222222,\"#7201a8\"],[0.3333333333333333,\"#9c179e\"],[0.4444444444444444,\"#bd3786\"],[0.5555555555555556,\"#d8576b\"],[0.6666666666666666,\"#ed7953\"],[0.7777777777777778,\"#fb9f3a\"],[0.8888888888888888,\"#fdca26\"],[1.0,\"#f0f921\"]]}],\"heatmap\":[{\"type\":\"heatmap\",\"colorbar\":{\"outlinewidth\":0,\"ticks\":\"\"},\"colorscale\":[[0.0,\"#0d0887\"],[0.1111111111111111,\"#46039f\"],[0.2222222222222222,\"#7201a8\"],[0.3333333333333333,\"#9c179e\"],[0.4444444444444444,\"#bd3786\"],[0.5555555555555556,\"#d8576b\"],[0.6666666666666666,\"#ed7953\"],[0.7777777777777778,\"#fb9f3a\"],[0.8888888888888888,\"#fdca26\"],[1.0,\"#f0f921\"]]}],\"heatmapgl\":[{\"type\":\"heatmapgl\",\"colorbar\":{\"outlinewidth\":0,\"ticks\":\"\"},\"colorscale\":[[0.0,\"#0d0887\"],[0.1111111111111111,\"#46039f\"],[0.2222222222222222,\"#7201a8\"],[0.3333333333333333,\"#9c179e\"],[0.4444444444444444,\"#bd3786\"],[0.5555555555555556,\"#d8576b\"],[0.6666666666666666,\"#ed7953\"],[0.7777777777777778,\"#fb9f3a\"],[0.8888888888888888,\"#fdca26\"],[1.0,\"#f0f921\"]]}],\"contourcarpet\":[{\"type\":\"contourcarpet\",\"colorbar\":{\"outlinewidth\":0,\"ticks\":\"\"}}],\"contour\":[{\"type\":\"contour\",\"colorbar\":{\"outlinewidth\":0,\"ticks\":\"\"},\"colorscale\":[[0.0,\"#0d0887\"],[0.1111111111111111,\"#46039f\"],[0.2222222222222222,\"#7201a8\"],[0.3333333333333333,\"#9c179e\"],[0.4444444444444444,\"#bd3786\"],[0.5555555555555556,\"#d8576b\"],[0.6666666666666666,\"#ed7953\"],[0.7777777777777778,\"#fb9f3a\"],[0.8888888888888888,\"#fdca26\"],[1.0,\"#f0f921\"]]}],\"surface\":[{\"type\":\"surface\",\"colorbar\":{\"outlinewidth\":0,\"ticks\":\"\"},\"colorscale\":[[0.0,\"#0d0887\"],[0.1111111111111111,\"#46039f\"],[0.2222222222222222,\"#7201a8\"],[0.3333333333333333,\"#9c179e\"],[0.4444444444444444,\"#bd3786\"],[0.5555555555555556,\"#d8576b\"],[0.6666666666666666,\"#ed7953\"],[0.7777777777777778,\"#fb9f3a\"],[0.8888888888888888,\"#fdca26\"],[1.0,\"#f0f921\"]]}],\"mesh3d\":[{\"type\":\"mesh3d\",\"colorbar\":{\"outlinewidth\":0,\"ticks\":\"\"}}],\"scatter\":[{\"fillpattern\":{\"fillmode\":\"overlay\",\"size\":10,\"solidity\":0.2},\"type\":\"scatter\"}],\"parcoords\":[{\"type\":\"parcoords\",\"line\":{\"colorbar\":{\"outlinewidth\":0,\"ticks\":\"\"}}}],\"scatterpolargl\":[{\"type\":\"scatterpolargl\",\"marker\":{\"colorbar\":{\"outlinewidth\":0,\"ticks\":\"\"}}}],\"bar\":[{\"error_x\":{\"color\":\"#2a3f5f\"},\"error_y\":{\"color\":\"#2a3f5f\"},\"marker\":{\"line\":{\"color\":\"#E5ECF6\",\"width\":0.5},\"pattern\":{\"fillmode\":\"overlay\",\"size\":10,\"solidity\":0.2}},\"type\":\"bar\"}],\"scattergeo\":[{\"type\":\"scattergeo\",\"marker\":{\"colorbar\":{\"outlinewidth\":0,\"ticks\":\"\"}}}],\"scatterpolar\":[{\"type\":\"scatterpolar\",\"marker\":{\"colorbar\":{\"outlinewidth\":0,\"ticks\":\"\"}}}],\"histogram\":[{\"marker\":{\"pattern\":{\"fillmode\":\"overlay\",\"size\":10,\"solidity\":0.2}},\"type\":\"histogram\"}],\"scattergl\":[{\"type\":\"scattergl\",\"marker\":{\"colorbar\":{\"outlinewidth\":0,\"ticks\":\"\"}}}],\"scatter3d\":[{\"type\":\"scatter3d\",\"line\":{\"colorbar\":{\"outlinewidth\":0,\"ticks\":\"\"}},\"marker\":{\"colorbar\":{\"outlinewidth\":0,\"ticks\":\"\"}}}],\"scattermapbox\":[{\"type\":\"scattermapbox\",\"marker\":{\"colorbar\":{\"outlinewidth\":0,\"ticks\":\"\"}}}],\"scatterternary\":[{\"type\":\"scatterternary\",\"marker\":{\"colorbar\":{\"outlinewidth\":0,\"ticks\":\"\"}}}],\"scattercarpet\":[{\"type\":\"scattercarpet\",\"marker\":{\"colorbar\":{\"outlinewidth\":0,\"ticks\":\"\"}}}],\"carpet\":[{\"aaxis\":{\"endlinecolor\":\"#2a3f5f\",\"gridcolor\":\"white\",\"linecolor\":\"white\",\"minorgridcolor\":\"white\",\"startlinecolor\":\"#2a3f5f\"},\"baxis\":{\"endlinecolor\":\"#2a3f5f\",\"gridcolor\":\"white\",\"linecolor\":\"white\",\"minorgridcolor\":\"white\",\"startlinecolor\":\"#2a3f5f\"},\"type\":\"carpet\"}],\"table\":[{\"cells\":{\"fill\":{\"color\":\"#EBF0F8\"},\"line\":{\"color\":\"white\"}},\"header\":{\"fill\":{\"color\":\"#C8D4E3\"},\"line\":{\"color\":\"white\"}},\"type\":\"table\"}],\"barpolar\":[{\"marker\":{\"line\":{\"color\":\"#E5ECF6\",\"width\":0.5},\"pattern\":{\"fillmode\":\"overlay\",\"size\":10,\"solidity\":0.2}},\"type\":\"barpolar\"}],\"pie\":[{\"automargin\":true,\"type\":\"pie\"}]},\"layout\":{\"autotypenumbers\":\"strict\",\"colorway\":[\"#636efa\",\"#EF553B\",\"#00cc96\",\"#ab63fa\",\"#FFA15A\",\"#19d3f3\",\"#FF6692\",\"#B6E880\",\"#FF97FF\",\"#FECB52\"],\"font\":{\"color\":\"#2a3f5f\"},\"hovermode\":\"closest\",\"hoverlabel\":{\"align\":\"left\"},\"paper_bgcolor\":\"white\",\"plot_bgcolor\":\"#E5ECF6\",\"polar\":{\"bgcolor\":\"#E5ECF6\",\"angularaxis\":{\"gridcolor\":\"white\",\"linecolor\":\"white\",\"ticks\":\"\"},\"radialaxis\":{\"gridcolor\":\"white\",\"linecolor\":\"white\",\"ticks\":\"\"}},\"ternary\":{\"bgcolor\":\"#E5ECF6\",\"aaxis\":{\"gridcolor\":\"white\",\"linecolor\":\"white\",\"ticks\":\"\"},\"baxis\":{\"gridcolor\":\"white\",\"linecolor\":\"white\",\"ticks\":\"\"},\"caxis\":{\"gridcolor\":\"white\",\"linecolor\":\"white\",\"ticks\":\"\"}},\"coloraxis\":{\"colorbar\":{\"outlinewidth\":0,\"ticks\":\"\"}},\"colorscale\":{\"sequential\":[[0.0,\"#0d0887\"],[0.1111111111111111,\"#46039f\"],[0.2222222222222222,\"#7201a8\"],[0.3333333333333333,\"#9c179e\"],[0.4444444444444444,\"#bd3786\"],[0.5555555555555556,\"#d8576b\"],[0.6666666666666666,\"#ed7953\"],[0.7777777777777778,\"#fb9f3a\"],[0.8888888888888888,\"#fdca26\"],[1.0,\"#f0f921\"]],\"sequentialminus\":[[0.0,\"#0d0887\"],[0.1111111111111111,\"#46039f\"],[0.2222222222222222,\"#7201a8\"],[0.3333333333333333,\"#9c179e\"],[0.4444444444444444,\"#bd3786\"],[0.5555555555555556,\"#d8576b\"],[0.6666666666666666,\"#ed7953\"],[0.7777777777777778,\"#fb9f3a\"],[0.8888888888888888,\"#fdca26\"],[1.0,\"#f0f921\"]],\"diverging\":[[0,\"#8e0152\"],[0.1,\"#c51b7d\"],[0.2,\"#de77ae\"],[0.3,\"#f1b6da\"],[0.4,\"#fde0ef\"],[0.5,\"#f7f7f7\"],[0.6,\"#e6f5d0\"],[0.7,\"#b8e186\"],[0.8,\"#7fbc41\"],[0.9,\"#4d9221\"],[1,\"#276419\"]]},\"xaxis\":{\"gridcolor\":\"white\",\"linecolor\":\"white\",\"ticks\":\"\",\"title\":{\"standoff\":15},\"zerolinecolor\":\"white\",\"automargin\":true,\"zerolinewidth\":2},\"yaxis\":{\"gridcolor\":\"white\",\"linecolor\":\"white\",\"ticks\":\"\",\"title\":{\"standoff\":15},\"zerolinecolor\":\"white\",\"automargin\":true,\"zerolinewidth\":2},\"scene\":{\"xaxis\":{\"backgroundcolor\":\"#E5ECF6\",\"gridcolor\":\"white\",\"linecolor\":\"white\",\"showbackground\":true,\"ticks\":\"\",\"zerolinecolor\":\"white\",\"gridwidth\":2},\"yaxis\":{\"backgroundcolor\":\"#E5ECF6\",\"gridcolor\":\"white\",\"linecolor\":\"white\",\"showbackground\":true,\"ticks\":\"\",\"zerolinecolor\":\"white\",\"gridwidth\":2},\"zaxis\":{\"backgroundcolor\":\"#E5ECF6\",\"gridcolor\":\"white\",\"linecolor\":\"white\",\"showbackground\":true,\"ticks\":\"\",\"zerolinecolor\":\"white\",\"gridwidth\":2}},\"shapedefaults\":{\"line\":{\"color\":\"#2a3f5f\"}},\"annotationdefaults\":{\"arrowcolor\":\"#2a3f5f\",\"arrowhead\":0,\"arrowwidth\":1},\"geo\":{\"bgcolor\":\"white\",\"landcolor\":\"#E5ECF6\",\"subunitcolor\":\"white\",\"showland\":true,\"showlakes\":true,\"lakecolor\":\"white\"},\"title\":{\"x\":0.05},\"mapbox\":{\"style\":\"light\"}}},\"xaxis\":{\"anchor\":\"y\",\"domain\":[0.0,1.0],\"title\":{\"text\":\"Category Name\"},\"categoryorder\":\"array\",\"categoryarray\":[\"A\",\"B\",\"C\",\"D\"]},\"yaxis\":{\"anchor\":\"x\",\"domain\":[0.0,1.0],\"title\":{\"text\":\"Value Count\"}},\"legend\":{\"title\":{\"text\":\"Category Name\"},\"tracegroupgap\":0},\"title\":{\"text\":\"Sample Bar Plot\"},\"barmode\":\"relative\"},                        {\"responsive\": true}                    ).then(function(){\n",
              "                            \n",
              "var gd = document.getElementById('22312637-f878-4504-9837-669925fdcf08');\n",
              "var x = new MutationObserver(function (mutations, observer) {{\n",
              "        var display = window.getComputedStyle(gd).display;\n",
              "        if (!display || display === 'none') {{\n",
              "            console.log([gd, 'removed!']);\n",
              "            Plotly.purge(gd);\n",
              "            observer.disconnect();\n",
              "        }}\n",
              "}});\n",
              "\n",
              "// Listen for the removal of the full notebook cells\n",
              "var notebookContainer = gd.closest('#notebook-container');\n",
              "if (notebookContainer) {{\n",
              "    x.observe(notebookContainer, {childList: true});\n",
              "}}\n",
              "\n",
              "// Listen for the clearing of the current output cell\n",
              "var outputEl = gd.closest('.output');\n",
              "if (outputEl) {{\n",
              "    x.observe(outputEl, {childList: true});\n",
              "}}\n",
              "\n",
              "                        })                };                            </script>        </div>\n",
              "</body>\n",
              "</html>"
            ]
          },
          "metadata": {}
        }
      ]
    },
    {
      "cell_type": "markdown",
      "source": [
        "# **6. Create a DataFrame and add a new column based on an existing column**"
      ],
      "metadata": {
        "id": "AWChRP1Ku321"
      }
    },
    {
      "cell_type": "code",
      "source": [
        "import pandas as pd\n",
        "\n",
        "# Create DataFrame\n",
        "data = {\n",
        "    'Name': ['Alice', 'Bob', 'Charlie', 'David'],\n",
        "    'Salary': [50000, 60000, 75000, 80000]\n",
        "}\n",
        "df = pd.DataFrame(data)\n",
        "\n",
        "# Add a new column 'Bonus' which is 10% of 'Salary'\n",
        "df['Bonus'] = df['Salary'] * 0.10\n",
        "\n",
        "print(df)"
      ],
      "metadata": {
        "colab": {
          "base_uri": "https://localhost:8080/"
        },
        "id": "iiwrycDKu7jm",
        "outputId": "9e74d88a-430d-4f76-e77f-c562659108bb"
      },
      "execution_count": 8,
      "outputs": [
        {
          "output_type": "stream",
          "name": "stdout",
          "text": [
            "      Name  Salary   Bonus\n",
            "0    Alice   50000  5000.0\n",
            "1      Bob   60000  6000.0\n",
            "2  Charlie   75000  7500.0\n",
            "3    David   80000  8000.0\n"
          ]
        }
      ]
    },
    {
      "cell_type": "markdown",
      "source": [
        "# **7.  Write a program to perform element-wise multiplication of two NumPy arrays**"
      ],
      "metadata": {
        "id": "fBtgAizKu_Nb"
      }
    },
    {
      "cell_type": "code",
      "source": [
        "import numpy as np\n",
        "\n",
        "# Create two NumPy arrays\n",
        "arr1 = np.array([1, 2, 3, 4])\n",
        "arr2 = np.array([5, 6, 7, 8])\n",
        "\n",
        "# Element-wise multiplication\n",
        "result = arr1 * arr2\n",
        "\n",
        "print(\"Array 1:\", arr1)\n",
        "print(\"Array 2:\", arr2)\n",
        "print(\"Element-wise Multiplication:\", result)"
      ],
      "metadata": {
        "colab": {
          "base_uri": "https://localhost:8080/"
        },
        "id": "5cKkBQsWvCkN",
        "outputId": "2665f6ac-3226-465e-c9fd-157850e57dfa"
      },
      "execution_count": 9,
      "outputs": [
        {
          "output_type": "stream",
          "name": "stdout",
          "text": [
            "Array 1: [1 2 3 4]\n",
            "Array 2: [5 6 7 8]\n",
            "Element-wise Multiplication: [ 5 12 21 32]\n"
          ]
        }
      ]
    },
    {
      "cell_type": "markdown",
      "source": [
        "# **8. Create a line plot with multiple lines using Matplotlib**"
      ],
      "metadata": {
        "id": "Roc4-M0GvF-m"
      }
    },
    {
      "cell_type": "code",
      "source": [
        "import matplotlib.pyplot as plt\n",
        "\n",
        "# Sample data\n",
        "x = [1, 2, 3, 4, 5]\n",
        "y1 = [2, 4, 6, 8, 10]   # First line\n",
        "y2 = [1, 3, 5, 7, 9]    # Second line\n",
        "y3 = [2, 3, 4, 5, 6]    # Third line\n",
        "\n",
        "# Plot multiple lines\n",
        "plt.plot(x, y1, label='Line 1', color='blue', marker='o')\n",
        "plt.plot(x, y2, label='Line 2', color='red', marker='s')\n",
        "plt.plot(x, y3, label='Line 3', color='green', marker='^')\n",
        "\n",
        "# Add labels and title\n",
        "plt.xlabel(\"X-axis\")\n",
        "plt.ylabel(\"Y-axis\")\n",
        "plt.title(\"Line Plot with Multiple Lines\")\n",
        "\n",
        "# Show legend\n",
        "plt.legend()\n",
        "\n",
        "# Display the plot\n",
        "plt.show()"
      ],
      "metadata": {
        "colab": {
          "base_uri": "https://localhost:8080/",
          "height": 472
        },
        "id": "bIK43OcYvJ8-",
        "outputId": "1b90e6a2-2c14-43a9-c487-5a2e72e111cc"
      },
      "execution_count": 10,
      "outputs": [
        {
          "output_type": "display_data",
          "data": {
            "text/plain": [
              "<Figure size 640x480 with 1 Axes>"
            ],
            "image/png": "[encoded data removed]"
          },
          "metadata": {}
        }
      ]
    },
    {
      "cell_type": "markdown",
      "source": [
        "# **9.  Generate a Pandas DataFrame and filter rows where a column value is greater than a threshold**"
      ],
      "metadata": {
        "id": "-xC0IAAPvNcs"
      }
    },
    {
      "cell_type": "code",
      "source": [
        "import pandas as pd\n",
        "\n",
        "# Create DataFrame\n",
        "data = {\n",
        "    'Name': ['Alice', 'Bob', 'Charlie', 'David'],\n",
        "    'Score': [85, 70, 95, 60]\n",
        "}\n",
        "df = pd.DataFrame(data)\n",
        "\n",
        "# Set threshold\n",
        "threshold = 80\n",
        "\n",
        "# Filter rows where 'Score' > threshold\n",
        "filtered_df = df[df['Score'] > threshold]\n",
        "\n",
        "print(\"Original DataFrame:\")\n",
        "print(df)\n",
        "print(\"\\nFiltered DataFrame (Score > 80):\")\n",
        "print(filtered_df)"
      ],
      "metadata": {
        "colab": {
          "base_uri": "https://localhost:8080/"
        },
        "id": "PENxb8QmvR1z",
        "outputId": "4e348c08-0db6-4a04-f2cc-fe7f4c69c82c"
      },
      "execution_count": 11,
      "outputs": [
        {
          "output_type": "stream",
          "name": "stdout",
          "text": [
            "Original DataFrame:\n",
            "      Name  Score\n",
            "0    Alice     85\n",
            "1      Bob     70\n",
            "2  Charlie     95\n",
            "3    David     60\n",
            "\n",
            "Filtered DataFrame (Score > 80):\n",
            "      Name  Score\n",
            "0    Alice     85\n",
            "2  Charlie     95\n"
          ]
        }
      ]
    },
    {
      "cell_type": "markdown",
      "source": [
        "# **10.  Create a histogram using Seaborn to visualize a distribution**"
      ],
      "metadata": {
        "id": "frogoeW5vXBg"
      }
    },
    {
      "cell_type": "code",
      "source": [
        "import seaborn as sns\n",
        "import matplotlib.pyplot as plt\n",
        "import pandas as pd\n",
        "import numpy as np\n",
        "\n",
        "# Create sample data\n",
        "data = pd.DataFrame({\n",
        "    'Scores': np.random.randint(50, 100, 50)  # 50 random integers between 50 and 100\n",
        "})\n",
        "\n",
        "# Create histogram\n",
        "sns.histplot(data=data, x='Scores', bins=10, kde=True, color='skyblue')\n",
        "\n",
        "# Add labels and title\n",
        "plt.xlabel(\"Scores\")\n",
        "plt.ylabel(\"Frequency\")\n",
        "plt.title(\"Distribution of Scores\")\n",
        "\n",
        "# Display plot\n",
        "plt.show()"
      ],
      "metadata": {
        "colab": {
          "base_uri": "https://localhost:8080/",
          "height": 472
        },
        "id": "uiKGfH0SvdaZ",
        "outputId": "fb388c1b-7d1b-4e23-8aff-cfe3ed50b062"
      },
      "execution_count": 12,
      "outputs": [
        {
          "output_type": "display_data",
          "data": {
            "text/plain": [
              "<Figure size 640x480 with 1 Axes>"
            ],
            "image/png": "[encoded data removed]"
          },
          "metadata": {}
        }
      ]
    },
    {
      "cell_type": "markdown",
      "source": [
        "# **11.  Perform matrix multiplication using NumPy**"
      ],
      "metadata": {
        "id": "KGQXxaHJveRZ"
      }
    },
    {
      "cell_type": "code",
      "source": [
        "import numpy as np\n",
        "\n",
        "# Create two matrices\n",
        "A = np.array([[1, 2],\n",
        "              [3, 4]])\n",
        "B = np.array([[5, 6],\n",
        "              [7, 8]])\n",
        "\n",
        "# Matrix multiplication\n",
        "result = np.dot(A, B)   # Method 1\n",
        "# Or: result = A @ B    # Method 2 (Python's matrix multiplication operator)\n",
        "\n",
        "print(\"Matrix A:\\n\", A)\n",
        "print(\"Matrix B:\\n\", B)\n",
        "print(\"Matrix Multiplication Result:\\n\", result)"
      ],
      "metadata": {
        "colab": {
          "base_uri": "https://localhost:8080/"
        },
        "id": "fJR-p1HvviC1",
        "outputId": "e35d8c47-630e-48ff-bbab-65e8a636841b"
      },
      "execution_count": 13,
      "outputs": [
        {
          "output_type": "stream",
          "name": "stdout",
          "text": [
            "Matrix A:\n",
            " [[1 2]\n",
            " [3 4]]\n",
            "Matrix B:\n",
            " [[5 6]\n",
            " [7 8]]\n",
            "Matrix Multiplication Result:\n",
            " [[19 22]\n",
            " [43 50]]\n"
          ]
        }
      ]
    },
    {
      "cell_type": "markdown",
      "source": [
        "# **12. Use Pandas to load a CSV file and display its first 5 rows**"
      ],
      "metadata": {
        "id": "cV53Cls0vlr5"
      }
    },
    {
      "cell_type": "code",
      "source": [
        "import pandas as pd\n",
        "\n",
        "# Load CSV file\n",
        "file_path = \"students.csv\"  # Replace with your CSV file name\n",
        "df = pd.read_csv(file_path)\n",
        "\n",
        "# Display first 5 rows with a message\n",
        "print(\"First 5 rows of the CSV file:\")\n",
        "print(df.head(5))"
      ],
      "metadata": {
        "colab": {
          "base_uri": "https://localhost:8080/",
          "height": 370
        },
        "id": "43Qer0eVvouu",
        "outputId": "771a44b5-f248-4660-abc2-ebe092ec7cd2"
      },
      "execution_count": 18,
      "outputs": [
        {
          "output_type": "error",
          "ename": "FileNotFoundError",
          "evalue": "[Errno 2] No such file or directory: 'students.csv'",
          "traceback": [
            "\u001b[0;31m---------------------------------------------------------------------------\u001b[0m",
            "\u001b[0;31mFileNotFoundError\u001b[0m                         Traceback (most recent call last)",
            "\u001b[0;32m/tmp/ipython-input-3892438519.py\u001b[0m in \u001b[0;36m<cell line: 0>\u001b[0;34m()\u001b[0m\n\u001b[1;32m      3\u001b[0m \u001b[0;31m# Load CSV file\u001b[0m\u001b[0;34m\u001b[0m\u001b[0;34m\u001b[0m\u001b[0m\n\u001b[1;32m      4\u001b[0m \u001b[0mfile_path\u001b[0m \u001b[0;34m=\u001b[0m \u001b[0;34m\"students.csv\"\u001b[0m  \u001b[0;31m# Replace with your CSV file name\u001b[0m\u001b[0;34m\u001b[0m\u001b[0;34m\u001b[0m\u001b[0m\n\u001b[0;32m----> 5\u001b[0;31m \u001b[0mdf\u001b[0m \u001b[0;34m=\u001b[0m \u001b[0mpd\u001b[0m\u001b[0;34m.\u001b[0m\u001b[0mread_csv\u001b[0m\u001b[0;34m(\u001b[0m\u001b[0mfile_path\u001b[0m\u001b[0;34m)\u001b[0m\u001b[0;34m\u001b[0m\u001b[0;34m\u001b[0m\u001b[0m\n\u001b[0m\u001b[1;32m      6\u001b[0m \u001b[0;34m\u001b[0m\u001b[0m\n\u001b[1;32m      7\u001b[0m \u001b[0;31m# Display first 5 rows with a message\u001b[0m\u001b[0;34m\u001b[0m\u001b[0;34m\u001b[0m\u001b[0m\n",
            "\u001b[0;32m/usr/local/lib/python3.11/dist-packages/pandas/io/parsers/readers.py\u001b[0m in \u001b[0;36mread_csv\u001b[0;34m(filepath_or_buffer, sep, delimiter, header, names, index_col, usecols, dtype, engine, converters, true_values, false_values, skipinitialspace, skiprows, skipfooter, nrows, na_values, keep_default_na, na_filter, verbose, skip_blank_lines, parse_dates, infer_datetime_format, keep_date_col, date_parser, date_format, dayfirst, cache_dates, iterator, chunksize, compression, thousands, decimal, lineterminator, quotechar, quoting, doublequote, escapechar, comment, encoding, encoding_errors, dialect, on_bad_lines, delim_whitespace, low_memory, memory_map, float_precision, storage_options, dtype_backend)\u001b[0m\n\u001b[1;32m   1024\u001b[0m     \u001b[0mkwds\u001b[0m\u001b[0;34m.\u001b[0m\u001b[0mupdate\u001b[0m\u001b[0;34m(\u001b[0m\u001b[0mkwds_defaults\u001b[0m\u001b[0;34m)\u001b[0m\u001b[0;34m\u001b[0m\u001b[0;34m\u001b[0m\u001b[0m\n\u001b[1;32m   1025\u001b[0m \u001b[0;34m\u001b[0m\u001b[0m\n\u001b[0;32m-> 1026\u001b[0;31m     \u001b[0;32mreturn\u001b[0m \u001b[0m_read\u001b[0m\u001b[0;34m(\u001b[0m\u001b[0mfilepath_or_buffer\u001b[0m\u001b[0;34m,\u001b[0m \u001b[0mkwds\u001b[0m\u001b[0;34m)\u001b[0m\u001b[0;34m\u001b[0m\u001b[0;34m\u001b[0m\u001b[0m\n\u001b[0m\u001b[1;32m   1027\u001b[0m \u001b[0;34m\u001b[0m\u001b[0m\n\u001b[1;32m   1028\u001b[0m \u001b[0;34m\u001b[0m\u001b[0m\n",
            "\u001b[0;32m/usr/local/lib/python3.11/dist-packages/pandas/io/parsers/readers.py\u001b[0m in \u001b[0;36m_read\u001b[0;34m(filepath_or_buffer, kwds)\u001b[0m\n\u001b[1;32m    618\u001b[0m \u001b[0;34m\u001b[0m\u001b[0m\n\u001b[1;32m    619\u001b[0m     \u001b[0;31m# Create the parser.\u001b[0m\u001b[0;34m\u001b[0m\u001b[0;34m\u001b[0m\u001b[0m\n\u001b[0;32m--> 620\u001b[0;31m     \u001b[0mparser\u001b[0m \u001b[0;34m=\u001b[0m \u001b[0mTextFileReader\u001b[0m\u001b[0;34m(\u001b[0m\u001b[0mfilepath_or_buffer\u001b[0m\u001b[0;34m,\u001b[0m \u001b[0;34m**\u001b[0m\u001b[0mkwds\u001b[0m\u001b[0;34m)\u001b[0m\u001b[0;34m\u001b[0m\u001b[0;34m\u001b[0m\u001b[0m\n\u001b[0m\u001b[1;32m    621\u001b[0m \u001b[0;34m\u001b[0m\u001b[0m\n\u001b[1;32m    622\u001b[0m     \u001b[0;32mif\u001b[0m \u001b[0mchunksize\u001b[0m \u001b[0;32mor\u001b[0m \u001b[0miterator\u001b[0m\u001b[0;34m:\u001b[0m\u001b[0;34m\u001b[0m\u001b[0;34m\u001b[0m\u001b[0m\n",
            "\u001b[0;32m/usr/local/lib/python3.11/dist-packages/pandas/io/parsers/readers.py\u001b[0m in \u001b[0;36m__init__\u001b[0;34m(self, f, engine, **kwds)\u001b[0m\n\u001b[1;32m   1618\u001b[0m \u001b[0;34m\u001b[0m\u001b[0m\n\u001b[1;32m   1619\u001b[0m         \u001b[0mself\u001b[0m\u001b[0;34m.\u001b[0m\u001b[0mhandles\u001b[0m\u001b[0;34m:\u001b[0m \u001b[0mIOHandles\u001b[0m \u001b[0;34m|\u001b[0m \u001b[0;32mNone\u001b[0m \u001b[0;34m=\u001b[0m \u001b[0;32mNone\u001b[0m\u001b[0;34m\u001b[0m\u001b[0;34m\u001b[0m\u001b[0m\n\u001b[0;32m-> 1620\u001b[0;31m         \u001b[0mself\u001b[0m\u001b[0;34m.\u001b[0m\u001b[0m_engine\u001b[0m \u001b[0;34m=\u001b[0m \u001b[0mself\u001b[0m\u001b[0;34m.\u001b[0m\u001b[0m_make_engine\u001b[0m\u001b[0;34m(\u001b[0m\u001b[0mf\u001b[0m\u001b[0;34m,\u001b[0m \u001b[0mself\u001b[0m\u001b[0;34m.\u001b[0m\u001b[0mengine\u001b[0m\u001b[0;34m)\u001b[0m\u001b[0;34m\u001b[0m\u001b[0;34m\u001b[0m\u001b[0m\n\u001b[0m\u001b[1;32m   1621\u001b[0m \u001b[0;34m\u001b[0m\u001b[0m\n\u001b[1;32m   1622\u001b[0m     \u001b[0;32mdef\u001b[0m \u001b[0mclose\u001b[0m\u001b[0;34m(\u001b[0m\u001b[0mself\u001b[0m\u001b[0;34m)\u001b[0m \u001b[0;34m->\u001b[0m \u001b[0;32mNone\u001b[0m\u001b[0;34m:\u001b[0m\u001b[0;34m\u001b[0m\u001b[0;34m\u001b[0m\u001b[0m\n",
            "\u001b[0;32m/usr/local/lib/python3.11/dist-packages/pandas/io/parsers/readers.py\u001b[0m in \u001b[0;36m_make_engine\u001b[0;34m(self, f, engine)\u001b[0m\n\u001b[1;32m   1878\u001b[0m                 \u001b[0;32mif\u001b[0m \u001b[0;34m\"b\"\u001b[0m \u001b[0;32mnot\u001b[0m \u001b[0;32min\u001b[0m \u001b[0mmode\u001b[0m\u001b[0;34m:\u001b[0m\u001b[0;34m\u001b[0m\u001b[0;34m\u001b[0m\u001b[0m\n\u001b[1;32m   1879\u001b[0m                     \u001b[0mmode\u001b[0m \u001b[0;34m+=\u001b[0m \u001b[0;34m\"b\"\u001b[0m\u001b[0;34m\u001b[0m\u001b[0;34m\u001b[0m\u001b[0m\n\u001b[0;32m-> 1880\u001b[0;31m             self.handles = get_handle(\n\u001b[0m\u001b[1;32m   1881\u001b[0m                 \u001b[0mf\u001b[0m\u001b[0;34m,\u001b[0m\u001b[0;34m\u001b[0m\u001b[0;34m\u001b[0m\u001b[0m\n\u001b[1;32m   1882\u001b[0m                 \u001b[0mmode\u001b[0m\u001b[0;34m,\u001b[0m\u001b[0;34m\u001b[0m\u001b[0;34m\u001b[0m\u001b[0m\n",
            "\u001b[0;32m/usr/local/lib/python3.11/dist-packages/pandas/io/common.py\u001b[0m in \u001b[0;36mget_handle\u001b[0;34m(path_or_buf, mode, encoding, compression, memory_map, is_text, errors, storage_options)\u001b[0m\n\u001b[1;32m    871\u001b[0m         \u001b[0;32mif\u001b[0m \u001b[0mioargs\u001b[0m\u001b[0;34m.\u001b[0m\u001b[0mencoding\u001b[0m \u001b[0;32mand\u001b[0m \u001b[0;34m\"b\"\u001b[0m \u001b[0;32mnot\u001b[0m \u001b[0;32min\u001b[0m \u001b[0mioargs\u001b[0m\u001b[0;34m.\u001b[0m\u001b[0mmode\u001b[0m\u001b[0;34m:\u001b[0m\u001b[0;34m\u001b[0m\u001b[0;34m\u001b[0m\u001b[0m\n\u001b[1;32m    872\u001b[0m             \u001b[0;31m# Encoding\u001b[0m\u001b[0;34m\u001b[0m\u001b[0;34m\u001b[0m\u001b[0m\n\u001b[0;32m--> 873\u001b[0;31m             handle = open(\n\u001b[0m\u001b[1;32m    874\u001b[0m                 \u001b[0mhandle\u001b[0m\u001b[0;34m,\u001b[0m\u001b[0;34m\u001b[0m\u001b[0;34m\u001b[0m\u001b[0m\n\u001b[1;32m    875\u001b[0m                 \u001b[0mioargs\u001b[0m\u001b[0;34m.\u001b[0m\u001b[0mmode\u001b[0m\u001b[0;34m,\u001b[0m\u001b[0;34m\u001b[0m\u001b[0;34m\u001b[0m\u001b[0m\n",
            "\u001b[0;31mFileNotFoundError\u001b[0m: [Errno 2] No such file or directory: 'students.csv'"
          ]
        }
      ]
    },
    {
      "cell_type": "markdown",
      "source": [
        "# **13.  Create a 3D scatter plot using Plotly.**"
      ],
      "metadata": {
        "id": "mDeEA9jwwJfE"
      }
    },
    {
      "cell_type": "code",
      "source": [
        "import plotly.express as px\n",
        "import pandas as pd\n",
        "\n",
        "# Create sample data\n",
        "data = pd.DataFrame({\n",
        "    'X': [1, 2, 3, 4, 5],\n",
        "    'Y': [10, 11, 12, 13, 14],\n",
        "    'Z': [5, 6, 7, 8, 9],\n",
        "    'Category': ['A', 'B', 'A', 'B', 'A']  # For coloring\n",
        "})\n",
        "\n",
        "# Create 3D scatter plot\n",
        "fig = px.scatter_3d(\n",
        "    data,\n",
        "    x='X',\n",
        "    y='Y',\n",
        "    z='Z',\n",
        "    color='Category',   # Different colors for categories\n",
        "    size_max=10\n",
        ")\n",
        "\n",
        "# Show the plot\n",
        "fig.show()"
      ],
      "metadata": {
        "colab": {
          "base_uri": "https://localhost:8080/",
          "height": 542
        },
        "id": "jE1O_fRSwOb-",
        "outputId": "8fe87b88-b9ec-4d75-9687-b212cfc5c11e"
      },
      "execution_count": 20,
      "outputs": [
        {
          "output_type": "display_data",
          "data": {
            "text/html": [
              "<html>\n",
              "<head><meta charset=\"utf-8\" /></head>\n",
              "<body>\n",
              "    <div>            <script src=\"https://cdnjs.cloudflare.com/ajax/libs/mathjax/2.7.5/MathJax.js?config=TeX-AMS-MML_SVG\"></script><script type=\"text/javascript\">if (window.MathJax && window.MathJax.Hub && window.MathJax.Hub.Config) {window.MathJax.Hub.Config({SVG: {font: \"STIX-Web\"}});}</script>                <script type=\"text/javascript\">window.PlotlyConfig = {MathJaxConfig: 'local'};</script>\n",
              "        <script charset=\"utf-8\" src=\"https://cdn.plot.ly/plotly-2.35.2.min.js\"></script>                <div id=\"fd9a0ea1-aecb-4f0e-beb1-2e563e396895\" class=\"plotly-graph-div\" style=\"height:525px; width:100%;\"></div>            <script type=\"text/javascript\">                                    window.PLOTLYENV=window.PLOTLYENV || {};                                    if (document.getElementById(\"fd9a0ea1-aecb-4f0e-beb1-2e563e396895\")) {                    Plotly.newPlot(                        \"fd9a0ea1-aecb-4f0e-beb1-2e563e396895\",                        [{\"hovertemplate\":\"Category=A\\u003cbr\\u003eX=%{x}\\u003cbr\\u003eY=%{y}\\u003cbr\\u003eZ=%{z}\\u003cextra\\u003e\\u003c\\u002fextra\\u003e\",\"legendgroup\":\"A\",\"marker\":{\"color\":\"#636efa\",\"symbol\":\"circle\"},\"mode\":\"markers\",\"name\":\"A\",\"scene\":\"scene\",\"showlegend\":true,\"x\":[1,3,5],\"y\":[10,12,14],\"z\":[5,7,9],\"type\":\"scatter3d\"},{\"hovertemplate\":\"Category=B\\u003cbr\\u003eX=%{x}\\u003cbr\\u003eY=%{y}\\u003cbr\\u003eZ=%{z}\\u003cextra\\u003e\\u003c\\u002fextra\\u003e\",\"legendgroup\":\"B\",\"marker\":{\"color\":\"#EF553B\",\"symbol\":\"circle\"},\"mode\":\"markers\",\"name\":\"B\",\"scene\":\"scene\",\"showlegend\":true,\"x\":[2,4],\"y\":[11,13],\"z\":[6,8],\"type\":\"scatter3d\"}],                        {\"template\":{\"data\":{\"histogram2dcontour\":[{\"type\":\"histogram2dcontour\",\"colorbar\":{\"outlinewidth\":0,\"ticks\":\"\"},\"colorscale\":[[0.0,\"#0d0887\"],[0.1111111111111111,\"#46039f\"],[0.2222222222222222,\"#7201a8\"],[0.3333333333333333,\"#9c179e\"],[0.4444444444444444,\"#bd3786\"],[0.5555555555555556,\"#d8576b\"],[0.6666666666666666,\"#ed7953\"],[0.7777777777777778,\"#fb9f3a\"],[0.8888888888888888,\"#fdca26\"],[1.0,\"#f0f921\"]]}],\"choropleth\":[{\"type\":\"choropleth\",\"colorbar\":{\"outlinewidth\":0,\"ticks\":\"\"}}],\"histogram2d\":[{\"type\":\"histogram2d\",\"colorbar\":{\"outlinewidth\":0,\"ticks\":\"\"},\"colorscale\":[[0.0,\"#0d0887\"],[0.1111111111111111,\"#46039f\"],[0.2222222222222222,\"#7201a8\"],[0.3333333333333333,\"#9c179e\"],[0.4444444444444444,\"#bd3786\"],[0.5555555555555556,\"#d8576b\"],[0.6666666666666666,\"#ed7953\"],[0.7777777777777778,\"#fb9f3a\"],[0.8888888888888888,\"#fdca26\"],[1.0,\"#f0f921\"]]}],\"heatmap\":[{\"type\":\"heatmap\",\"colorbar\":{\"outlinewidth\":0,\"ticks\":\"\"},\"colorscale\":[[0.0,\"#0d0887\"],[0.1111111111111111,\"#46039f\"],[0.2222222222222222,\"#7201a8\"],[0.3333333333333333,\"#9c179e\"],[0.4444444444444444,\"#bd3786\"],[0.5555555555555556,\"#d8576b\"],[0.6666666666666666,\"#ed7953\"],[0.7777777777777778,\"#fb9f3a\"],[0.8888888888888888,\"#fdca26\"],[1.0,\"#f0f921\"]]}],\"heatmapgl\":[{\"type\":\"heatmapgl\",\"colorbar\":{\"outlinewidth\":0,\"ticks\":\"\"},\"colorscale\":[[0.0,\"#0d0887\"],[0.1111111111111111,\"#46039f\"],[0.2222222222222222,\"#7201a8\"],[0.3333333333333333,\"#9c179e\"],[0.4444444444444444,\"#bd3786\"],[0.5555555555555556,\"#d8576b\"],[0.6666666666666666,\"#ed7953\"],[0.7777777777777778,\"#fb9f3a\"],[0.8888888888888888,\"#fdca26\"],[1.0,\"#f0f921\"]]}],\"contourcarpet\":[{\"type\":\"contourcarpet\",\"colorbar\":{\"outlinewidth\":0,\"ticks\":\"\"}}],\"contour\":[{\"type\":\"contour\",\"colorbar\":{\"outlinewidth\":0,\"ticks\":\"\"},\"colorscale\":[[0.0,\"#0d0887\"],[0.1111111111111111,\"#46039f\"],[0.2222222222222222,\"#7201a8\"],[0.3333333333333333,\"#9c179e\"],[0.4444444444444444,\"#bd3786\"],[0.5555555555555556,\"#d8576b\"],[0.6666666666666666,\"#ed7953\"],[0.7777777777777778,\"#fb9f3a\"],[0.8888888888888888,\"#fdca26\"],[1.0,\"#f0f921\"]]}],\"surface\":[{\"type\":\"surface\",\"colorbar\":{\"outlinewidth\":0,\"ticks\":\"\"},\"colorscale\":[[0.0,\"#0d0887\"],[0.1111111111111111,\"#46039f\"],[0.2222222222222222,\"#7201a8\"],[0.3333333333333333,\"#9c179e\"],[0.4444444444444444,\"#bd3786\"],[0.5555555555555556,\"#d8576b\"],[0.6666666666666666,\"#ed7953\"],[0.7777777777777778,\"#fb9f3a\"],[0.8888888888888888,\"#fdca26\"],[1.0,\"#f0f921\"]]}],\"mesh3d\":[{\"type\":\"mesh3d\",\"colorbar\":{\"outlinewidth\":0,\"ticks\":\"\"}}],\"scatter\":[{\"fillpattern\":{\"fillmode\":\"overlay\",\"size\":10,\"solidity\":0.2},\"type\":\"scatter\"}],\"parcoords\":[{\"type\":\"parcoords\",\"line\":{\"colorbar\":{\"outlinewidth\":0,\"ticks\":\"\"}}}],\"scatterpolargl\":[{\"type\":\"scatterpolargl\",\"marker\":{\"colorbar\":{\"outlinewidth\":0,\"ticks\":\"\"}}}],\"bar\":[{\"error_x\":{\"color\":\"#2a3f5f\"},\"error_y\":{\"color\":\"#2a3f5f\"},\"marker\":{\"line\":{\"color\":\"#E5ECF6\",\"width\":0.5},\"pattern\":{\"fillmode\":\"overlay\",\"size\":10,\"solidity\":0.2}},\"type\":\"bar\"}],\"scattergeo\":[{\"type\":\"scattergeo\",\"marker\":{\"colorbar\":{\"outlinewidth\":0,\"ticks\":\"\"}}}],\"scatterpolar\":[{\"type\":\"scatterpolar\",\"marker\":{\"colorbar\":{\"outlinewidth\":0,\"ticks\":\"\"}}}],\"histogram\":[{\"marker\":{\"pattern\":{\"fillmode\":\"overlay\",\"size\":10,\"solidity\":0.2}},\"type\":\"histogram\"}],\"scattergl\":[{\"type\":\"scattergl\",\"marker\":{\"colorbar\":{\"outlinewidth\":0,\"ticks\":\"\"}}}],\"scatter3d\":[{\"type\":\"scatter3d\",\"line\":{\"colorbar\":{\"outlinewidth\":0,\"ticks\":\"\"}},\"marker\":{\"colorbar\":{\"outlinewidth\":0,\"ticks\":\"\"}}}],\"scattermapbox\":[{\"type\":\"scattermapbox\",\"marker\":{\"colorbar\":{\"outlinewidth\":0,\"ticks\":\"\"}}}],\"scatterternary\":[{\"type\":\"scatterternary\",\"marker\":{\"colorbar\":{\"outlinewidth\":0,\"ticks\":\"\"}}}],\"scattercarpet\":[{\"type\":\"scattercarpet\",\"marker\":{\"colorbar\":{\"outlinewidth\":0,\"ticks\":\"\"}}}],\"carpet\":[{\"aaxis\":{\"endlinecolor\":\"#2a3f5f\",\"gridcolor\":\"white\",\"linecolor\":\"white\",\"minorgridcolor\":\"white\",\"startlinecolor\":\"#2a3f5f\"},\"baxis\":{\"endlinecolor\":\"#2a3f5f\",\"gridcolor\":\"white\",\"linecolor\":\"white\",\"minorgridcolor\":\"white\",\"startlinecolor\":\"#2a3f5f\"},\"type\":\"carpet\"}],\"table\":[{\"cells\":{\"fill\":{\"color\":\"#EBF0F8\"},\"line\":{\"color\":\"white\"}},\"header\":{\"fill\":{\"color\":\"#C8D4E3\"},\"line\":{\"color\":\"white\"}},\"type\":\"table\"}],\"barpolar\":[{\"marker\":{\"line\":{\"color\":\"#E5ECF6\",\"width\":0.5},\"pattern\":{\"fillmode\":\"overlay\",\"size\":10,\"solidity\":0.2}},\"type\":\"barpolar\"}],\"pie\":[{\"automargin\":true,\"type\":\"pie\"}]},\"layout\":{\"autotypenumbers\":\"strict\",\"colorway\":[\"#636efa\",\"#EF553B\",\"#00cc96\",\"#ab63fa\",\"#FFA15A\",\"#19d3f3\",\"#FF6692\",\"#B6E880\",\"#FF97FF\",\"#FECB52\"],\"font\":{\"color\":\"#2a3f5f\"},\"hovermode\":\"closest\",\"hoverlabel\":{\"align\":\"left\"},\"paper_bgcolor\":\"white\",\"plot_bgcolor\":\"#E5ECF6\",\"polar\":{\"bgcolor\":\"#E5ECF6\",\"angularaxis\":{\"gridcolor\":\"white\",\"linecolor\":\"white\",\"ticks\":\"\"},\"radialaxis\":{\"gridcolor\":\"white\",\"linecolor\":\"white\",\"ticks\":\"\"}},\"ternary\":{\"bgcolor\":\"#E5ECF6\",\"aaxis\":{\"gridcolor\":\"white\",\"linecolor\":\"white\",\"ticks\":\"\"},\"baxis\":{\"gridcolor\":\"white\",\"linecolor\":\"white\",\"ticks\":\"\"},\"caxis\":{\"gridcolor\":\"white\",\"linecolor\":\"white\",\"ticks\":\"\"}},\"coloraxis\":{\"colorbar\":{\"outlinewidth\":0,\"ticks\":\"\"}},\"colorscale\":{\"sequential\":[[0.0,\"#0d0887\"],[0.1111111111111111,\"#46039f\"],[0.2222222222222222,\"#7201a8\"],[0.3333333333333333,\"#9c179e\"],[0.4444444444444444,\"#bd3786\"],[0.5555555555555556,\"#d8576b\"],[0.6666666666666666,\"#ed7953\"],[0.7777777777777778,\"#fb9f3a\"],[0.8888888888888888,\"#fdca26\"],[1.0,\"#f0f921\"]],\"sequentialminus\":[[0.0,\"#0d0887\"],[0.1111111111111111,\"#46039f\"],[0.2222222222222222,\"#7201a8\"],[0.3333333333333333,\"#9c179e\"],[0.4444444444444444,\"#bd3786\"],[0.5555555555555556,\"#d8576b\"],[0.6666666666666666,\"#ed7953\"],[0.7777777777777778,\"#fb9f3a\"],[0.8888888888888888,\"#fdca26\"],[1.0,\"#f0f921\"]],\"diverging\":[[0,\"#8e0152\"],[0.1,\"#c51b7d\"],[0.2,\"#de77ae\"],[0.3,\"#f1b6da\"],[0.4,\"#fde0ef\"],[0.5,\"#f7f7f7\"],[0.6,\"#e6f5d0\"],[0.7,\"#b8e186\"],[0.8,\"#7fbc41\"],[0.9,\"#4d9221\"],[1,\"#276419\"]]},\"xaxis\":{\"gridcolor\":\"white\",\"linecolor\":\"white\",\"ticks\":\"\",\"title\":{\"standoff\":15},\"zerolinecolor\":\"white\",\"automargin\":true,\"zerolinewidth\":2},\"yaxis\":{\"gridcolor\":\"white\",\"linecolor\":\"white\",\"ticks\":\"\",\"title\":{\"standoff\":15},\"zerolinecolor\":\"white\",\"automargin\":true,\"zerolinewidth\":2},\"scene\":{\"xaxis\":{\"backgroundcolor\":\"#E5ECF6\",\"gridcolor\":\"white\",\"linecolor\":\"white\",\"showbackground\":true,\"ticks\":\"\",\"zerolinecolor\":\"white\",\"gridwidth\":2},\"yaxis\":{\"backgroundcolor\":\"#E5ECF6\",\"gridcolor\":\"white\",\"linecolor\":\"white\",\"showbackground\":true,\"ticks\":\"\",\"zerolinecolor\":\"white\",\"gridwidth\":2},\"zaxis\":{\"backgroundcolor\":\"#E5ECF6\",\"gridcolor\":\"white\",\"linecolor\":\"white\",\"showbackground\":true,\"ticks\":\"\",\"zerolinecolor\":\"white\",\"gridwidth\":2}},\"shapedefaults\":{\"line\":{\"color\":\"#2a3f5f\"}},\"annotationdefaults\":{\"arrowcolor\":\"#2a3f5f\",\"arrowhead\":0,\"arrowwidth\":1},\"geo\":{\"bgcolor\":\"white\",\"landcolor\":\"#E5ECF6\",\"subunitcolor\":\"white\",\"showland\":true,\"showlakes\":true,\"lakecolor\":\"white\"},\"title\":{\"x\":0.05},\"mapbox\":{\"style\":\"light\"}}},\"scene\":{\"domain\":{\"x\":[0.0,1.0],\"y\":[0.0,1.0]},\"xaxis\":{\"title\":{\"text\":\"X\"}},\"yaxis\":{\"title\":{\"text\":\"Y\"}},\"zaxis\":{\"title\":{\"text\":\"Z\"}}},\"legend\":{\"title\":{\"text\":\"Category\"},\"tracegroupgap\":0},\"margin\":{\"t\":60}},                        {\"responsive\": true}                    ).then(function(){\n",
              "                            \n",
              "var gd = document.getElementById('fd9a0ea1-aecb-4f0e-beb1-2e563e396895');\n",
              "var x = new MutationObserver(function (mutations, observer) {{\n",
              "        var display = window.getComputedStyle(gd).display;\n",
              "        if (!display || display === 'none') {{\n",
              "            console.log([gd, 'removed!']);\n",
              "            Plotly.purge(gd);\n",
              "            observer.disconnect();\n",
              "        }}\n",
              "}});\n",
              "\n",
              "// Listen for the removal of the full notebook cells\n",
              "var notebookContainer = gd.closest('#notebook-container');\n",
              "if (notebookContainer) {{\n",
              "    x.observe(notebookContainer, {childList: true});\n",
              "}}\n",
              "\n",
              "// Listen for the clearing of the current output cell\n",
              "var outputEl = gd.closest('.output');\n",
              "if (outputEl) {{\n",
              "    x.observe(outputEl, {childList: true});\n",
              "}}\n",
              "\n",
              "                        })                };                            </script>        </div>\n",
              "</body>\n",
              "</html>"
            ]
          },
          "metadata": {}
        }
      ]
    }
  ]
}
{
  "nbformat": 4,
  "nbformat_minor": 0,
  "metadata": {
    "colab": {
      "provenance": []
    },
    "kernelspec": {
      "name": "python3",
      "display_name": "Python 3"
    },
    "language_info": {
      "name": "python"
    }
  },
  "cells": [
    {
      "cell_type": "markdown",
      "source": [
        "# **1. What is the difference between interpreted and compiled languages**\n",
        "\n",
        "The main difference between interpreted and compiled languages lies in how the code is translated into machine language that the computer can execute:\n",
        "\n",
        "**Compiled Languages**\n",
        "- Definition: Code is translated all at once into machine code before running, using a compiler.Examples: C, C++, Rust, Go\n",
        "\n",
        "                \n",
        "\n",
        "-  Characteristics:\n",
        "Faster execution: Since it's already translated into machine code.\n",
        "\n",
        "- Error checking: Catches many errors at compile time.\n",
        "\n",
        "- No need for source code at runtime — only the executable is needed.\n",
        "\n",
        "-  Drawbacks:\n",
        "Slower to compile initially.\n",
        "\n",
        "Less flexible for interactive or quick testing.\n",
        "\n",
        "**Interpreted Languages**\n",
        "- Definition: Code is read and executed line by line at runtime by an interpreter.Examples: Python, JavaScript, Ruby\n",
        "\n",
        "- Characteristics:\n",
        "Easier to test and debug: Run line by line.\n",
        "\n",
        "- Good for scripting and rapid development.\n",
        "\n",
        "- Platform-independent (as long as the interpreter is available).\n",
        "\n",
        "- Drawbacks:\n",
        "Slower execution speed compared to compiled code.\n",
        "\n",
        "- Must have the interpreter present to run the code."
      ],
      "metadata": {
        "id": "CbWMNGTSV75t"
      }
    },
    {
      "cell_type": "markdown",
      "source": [
        "# **2. What is exception handling in Python**\n",
        "\n",
        "An exception is an error that occurs during the execution of a program.\n",
        "Example: Dividing by zero, using an undefined variable, or opening a file that doesn't exist."
      ],
      "metadata": {
        "id": "C78rMEcDWqz_"
      }
    },
    {
      "cell_type": "markdown",
      "source": [
        "# **3. What is the purpose of the finally block in exception handling**\n",
        "\n",
        "The finally block is used to define cleanup actions that must be executed no matter what happens in the try and except blocks.\n",
        "\n",
        "The finally block always runs, whether:\n",
        "- An exception was raised or not\n",
        "- The exception was handled or not\n",
        "- The program returns early or breaks"
      ],
      "metadata": {
        "id": "SpWS0nqeW3_0"
      }
    },
    {
      "cell_type": "markdown",
      "source": [
        "# **4. What is logging in Python**\n",
        "\n",
        "Logging in Python is a way to track events that happen when your code runs. It's like writing a diary or activity log for your program.\n",
        "\n",
        "Instead of using print() to display messages (which is temporary and not professional), you use the logging module to record messages in a more flexible and powerful way."
      ],
      "metadata": {
        "id": "dEP_z2ODXJZO"
      }
    },
    {
      "cell_type": "markdown",
      "source": [
        "# **5. What is the significance of the __del__ method in Python**\n",
        "\n",
        "The __del__ method is a special method in Python called a destructor.\n",
        "It is automatically called when an object is about to be destroyed\n",
        "\n",
        "Used to clean up resources like:\n",
        "- Closing files\n",
        "- Releasing network or database connections\n",
        "- Logging object deletion\n",
        "- Acts like a \"cleanup handler\" before the object vanishes"
      ],
      "metadata": {
        "id": "m-lmb3JoXSVL"
      }
    },
    {
      "cell_type": "markdown",
      "source": [
        "# **6. What is the difference between import and from ... import in Python**\n",
        "\n",
        "\n",
        "Both import and from ... import are used to bring in external modules or functions into your Python program.\n",
        "The difference lies in how you access the functions, classes, or variables from those modules."
      ],
      "metadata": {
        "id": "OCP4K2DwXjGw"
      }
    },
    {
      "cell_type": "markdown",
      "source": [
        "# **7. How can you handle multiple exceptions in Python**\n",
        "\n",
        "In Python, you can handle multiple exceptions using multiple except blocks, or by grouping them together. This helps you catch different types of errors and respond accordingly"
      ],
      "metadata": {
        "id": "ygyro7R9XvvT"
      }
    },
    {
      "cell_type": "code",
      "source": [
        "#Method 1- Handle each exception type separately.\n",
        "\n",
        "try:\n",
        "    x = int(input(\"Enter a number: \"))\n",
        "    result = 10 / x\n",
        "except ValueError:\n",
        "    print(\"❌ Invalid input! Please enter a number.\")\n",
        "except ZeroDivisionError:\n",
        "    print(\"❌ Cannot divide by zero.\")"
      ],
      "metadata": {
        "colab": {
          "base_uri": "https://localhost:8080/"
        },
        "id": "DXoMQAXhX67x",
        "outputId": "3ac5ee2c-321a-46ea-d1a9-7352412257fd"
      },
      "execution_count": 3,
      "outputs": [
        {
          "output_type": "stream",
          "name": "stdout",
          "text": [
            "Enter a number: 0\n",
            "❌ Cannot divide by zero.\n"
          ]
        }
      ]
    },
    {
      "cell_type": "code",
      "source": [
        "#Method 2 - Grouping Exceptions in One Line\n",
        "\n",
        "\n",
        "try:\n",
        "    x = int(input(\"Enter a number: \"))\n",
        "    result = 10 / x\n",
        "except (ValueError, ZeroDivisionError):\n",
        "    print(\"❌ Either the input was invalid or you tried to divide by zero.\")"
      ],
      "metadata": {
        "colab": {
          "base_uri": "https://localhost:8080/"
        },
        "id": "GG1ukGwsX-tR",
        "outputId": "54d0db41-2dec-4000-bc85-21bb2fe60105"
      },
      "execution_count": 4,
      "outputs": [
        {
          "name": "stdout",
          "output_type": "stream",
          "text": [
            "Enter a number: 88\n"
          ]
        }
      ]
    },
    {
      "cell_type": "markdown",
      "source": [
        "# **8. What is the purpose of the with statement when handling files in Python**\n",
        "\n",
        "he with statement in Python is used to simplify file handling by automatically managing resource cleanup, like closing files.\n",
        "\n",
        "The with statement ensures that a file (or other resource) is properly closed, even if an error occurs while you're working with it."
      ],
      "metadata": {
        "id": "95Y6y6ujYYl4"
      }
    },
    {
      "cell_type": "markdown",
      "source": [
        "# **9. What is the difference between multithreading and multiprocessing**\n",
        "\n",
        "**Multithreading**\n",
        "-  Runs multiple threads within a single process\n",
        "\n",
        "- Shares memory space\n",
        "\n",
        "- Limited by the Global Interpreter Lock (GIL) in CPython (so not truly parallel for CPU-bound tasks)\n",
        "\n",
        "- Best for I/O-bound tasks (like file reading, network calls)\n",
        "\n",
        "**Multiprocessing**\n",
        "\n",
        "- Runs multiple processes, each with its own memory space\n",
        "\n",
        "- Truly parallel (no GIL limitation)\n",
        "\n",
        "- Best for CPU-bound tasks (like heavy computations)"
      ],
      "metadata": {
        "id": "AhkPQA6JYmau"
      }
    },
    {
      "cell_type": "markdown",
      "source": [
        "# **10. What are the advantages of using logging in a program**\n",
        "\n",
        "Using logging in your program offers several benefits over basic print() statements — especially as your code becomes larger and more complex.\n",
        "\n",
        "**1. Tracks Program Execution**\n",
        "- Logs help you see what the program is doing at each step.\n",
        "\n",
        "- Useful for debugging, monitoring, and understanding flow.\n",
        "\n",
        "    Example: “User clicked login button” or “Database connected successfully.”\n",
        "\n",
        "\n",
        "**2. More Informative than print()**\n",
        "- Logging includes:\n",
        "\n",
        "- Timestamp\n",
        "\n",
        "- Severity level (INFO, WARNING, ERROR, etc.)\n",
        "\n",
        "- Source (line/module) of the message\n",
        "\n",
        "**3. Helps Debug Errors**\n",
        "- Logs help trace what went wrong, when, and why.\n",
        "\n",
        "- You can include stack traces, error messages, and variable values.\n",
        "\n",
        "**4. Customizable Output**\n",
        "\n",
        "Send logs to:\n",
        "- Console\n",
        "- File\n",
        "- Email\n",
        "- Remote server\n",
        "- Set different levels of logging:\n",
        "   DEBUG, INFO, WARNING, ERROR, CRITICAL"
      ],
      "metadata": {
        "id": "1Qie5Eb4Y69U"
      }
    },
    {
      "cell_type": "markdown",
      "source": [
        "# **11. What is memory management in Python**\n",
        "\n",
        "Memory management in Python refers to the process of allocating, using, and releasing memory efficiently while a Python program runs"
      ],
      "metadata": {
        "id": "u6q-dtbXZ0Z4"
      }
    },
    {
      "cell_type": "markdown",
      "source": [
        "# **12. What are the basic steps involved in exception handling in Python**\n",
        "\n",
        "Exception handling in Python allows you to gracefully deal with errors during program execution — without crashing your entire program\n",
        "\n",
        "\n",
        "**Try Block**\n",
        "\n",
        " You place the risky or error-prone code inside a try block.\n",
        "\n",
        " This is where Python checks for potential errors during execution.\n",
        "\n",
        "**Except Block**\n",
        "\n",
        "If an error occurs in the try block, Python immediately jumps to the except block.\n",
        "\n",
        "This is where you handle the error gracefully, instead of crashing the program.\n",
        "\n",
        "**Else Block (Optional)**\n",
        "\n",
        "If no exception occurs in the try block, the else block will run.\n",
        "\n",
        "It's useful for code that should only run when everything goes smoothly.\n",
        "\n",
        "**Finally Block (Optional)**\n",
        "\n",
        "This block always runs, whether an exception occurred or not.\n",
        "\n",
        "Commonly used for cleaning up (like closing files or releasing resources)."
      ],
      "metadata": {
        "id": "yQpH11hoZ_RN"
      }
    },
    {
      "cell_type": "markdown",
      "source": [
        "# **13. Why is memory management important in Python**\n",
        "\n",
        "Memory management is crucial in Python (or any programming language) to ensure that your program:\n",
        "\n",
        " 1. Runs Efficiently\n",
        "- Good memory management helps your program use just the right amount of memory.\n",
        "- Prevents slowdowns caused by using too much memory.\n",
        "\n",
        "2. Prevents Memory Leaks\n",
        "- If memory is not released after it's used, it stays occupied.\n",
        "- Over time, this leads to memory leaks, where unused memory piles up and      crashes or freezes the program.\n",
        "\n",
        "3. Supports Large Applications\n",
        "- Complex or long-running programs (e.g., web servers, games, data analysis tools) need to manage memory wisely to stay stable.\n",
        "\n",
        "4. Improves Performance\n",
        "- Releasing memory that’s no longer needed allows Python to allocate space faster for new objects.\n",
        "- Reduces CPU and memory usage, especially in loops or repeated operations.\n",
        "\n",
        "5. Automatic Yet Tunable\n",
        "- Python handles memory automatically using a garbage collector, but understanding it lets developers:\n",
        "- Write better code\n",
        "- Avoid unnecessary memory use\n",
        "- Control memory manually if needed (e.g., del, or using weak references)"
      ],
      "metadata": {
        "id": "8UilqwpJab3T"
      }
    },
    {
      "cell_type": "markdown",
      "source": [
        "# **14. What is the role of try and except in exception handling**\n",
        "\n",
        "**Role of try Block**\n",
        "- The try block contains code that might raise an error.\n",
        "- Python runs this code and watches for exceptions.\n",
        "- If no error occurs, it moves past the except block.\n",
        "\n",
        "**Role of except Block**\n",
        "- If an error occurs inside the try block, Python jumps to the except block.\n",
        "- This is where you handle the error — by showing a message, retrying, or safely exiting.\n",
        "- Prevents the program from crashing"
      ],
      "metadata": {
        "id": "asjXMosYbCXb"
      }
    },
    {
      "cell_type": "markdown",
      "source": [
        "# **15. How does Python's garbage collection system work**\n",
        "\n",
        "**Python Uses Two Main Techniques:**\n",
        "**1. Reference Counting**\n",
        "- Every object has a reference count (a number showing how many variables are using it).\n",
        "- When an object’s reference count becomes zero, it is immediately deleted.\n",
        "-   Example:\n",
        "If no variables are pointing to a list, it will be deleted automatically.\n",
        "\n",
        "**2. Cycle Detection (Generational Garbage Collector)**\n",
        "- Python’s GC can detect reference cycles — where two or more objects refer to each other but are no longer reachable by the program.\n",
        "- These cannot be deleted by reference counting alone, so the cycle detector handles them.\n",
        "- Example:\n",
        "Object A → Object B → Object A (a loop), even though nothing else uses them.\n",
        "\n"
      ],
      "metadata": {
        "id": "_ztSHvRnerjI"
      }
    },
    {
      "cell_type": "markdown",
      "source": [
        "# **16. What is the purpose of the else block in exception handling**\n",
        "\n",
        "In Python, the else block in exception handling is used to define code that should only run if no exception was raised in the try block.\n",
        "\n",
        "Why Use else?\n",
        "- Keeps your code cleaner and more readable.\n",
        "- Separates the \"error-free logic\" from the \"error-handling logic\"."
      ],
      "metadata": {
        "id": "ONNjd-RafFOF"
      }
    },
    {
      "cell_type": "markdown",
      "source": [
        "# **17. What are the common logging levels in Python**\n",
        "\n",
        "Python’s logging module provides different levels of severity to categorize log messages. These levels help you control what gets logged and what doesn't.\n",
        "\n",
        "**DEBUG (Lowest level)**\n",
        "Shows detailed internal information.\n",
        "\n",
        "Used mostly by developers.\n",
        "\n",
        "Example: “User object initialized with default settings.”\n",
        "\n",
        " **INFO**\n",
        "Shows normal program flow.\n",
        "\n",
        "Example: “User successfully logged in.”\n",
        "\n",
        "**WARNING**\n",
        "Something went wrong or is likely to go wrong, but the program continues.\n",
        "\n",
        "Example: “Low disk space.”\n",
        "\n",
        "**ERROR**\n",
        "A failure occurred during program execution.\n",
        "\n",
        "Example: “File not found: data.csv”\n",
        "\n",
        "**CRITICAL (Highest level)**\n",
        "A severe error that might stop the program.\n",
        "\n",
        "Example: “Database connection failed – shutting down.”"
      ],
      "metadata": {
        "id": "-H4QBoCufSRF"
      }
    },
    {
      "cell_type": "markdown",
      "source": [
        "# **18. What is the difference between os.fork() and multiprocessing in Python**\n",
        "\n",
        "In Python, both os.fork() and the multiprocessing module are used to create new processes, but they differ significantly in usage, platform support, and functionality. os.fork() is a low-level system call that creates a child process by duplicating the current process. It is available only on Unix-based systems like Linux and macOS, and it requires manual handling of process behavior, communication, and errors, making it more complex and error-prone, especially for beginners.\n",
        "\n",
        "In contrast, the multiprocessing module is a high-level Python library designed to make process creation simpler and more structured. It is cross-platform, meaning it works on Windows as well as Unix systems. multiprocessing provides built-in tools for safe inter-process communication, such as Queue, Pipe, and shared memory, and each process runs in its own memory space, preventing issues related to shared state.\n",
        "\n",
        "While os.fork() may be used in system-level scripting or for low-level process control, multiprocessing is better suited for modern Python programs that require parallel execution, such as CPU-bound tasks. Overall, multiprocessing is more beginner-friendly, portable, and flexible, while os.fork() is more powerful in system-level tasks but less convenient for general-purpose use."
      ],
      "metadata": {
        "id": "iRXLEWz2fnhe"
      }
    },
    {
      "cell_type": "markdown",
      "source": [
        "# **19.  What is the importance of closing a file in Python**\n",
        "\n",
        "Closing a file in Python is an essential part of proper file handling. When you open a file using open(), Python creates a connection between your program and the file stored on disk. Once you're done with that file, it’s important to close it using close() (or use a with statement, which does it automatically)."
      ],
      "metadata": {
        "id": "uUh--7xbf1ry"
      }
    },
    {
      "cell_type": "markdown",
      "source": [
        "# **20.  What is the difference between file.read() and file.readline() in Python**\n",
        "\n",
        "In Python, file.read() and file.readline() are both used to read the contents of a file, but they function differently depending on your needs. The file.read() method reads the entire content of the file at once and returns it as a single string. This is useful when working with small files where it's practical to load the whole content into memory for processing. On the other hand, file.readline() reads only one line at a time from the file and returns it as a string, including the newline character at the end. It is more memory-efficient and better suited for reading large files line by line, especially in loops or when you don’t need the entire file content at once. Choosing between the two depends on the size of the file and how you want to process the data."
      ],
      "metadata": {
        "id": "9DUYSKXDf-h-"
      }
    },
    {
      "cell_type": "markdown",
      "source": [
        "# **21.  What is the logging module in Python used for**\n",
        "\n",
        "The logging module in Python is used to record messages or events that happen while a program runs. It provides a flexible way to track and report errors, warnings, and other information for debugging and monitoring purposes. Instead of using print() statements for output, which can clutter your code and are not suitable for production environments, the logging module allows you to write messages to different outputs like the console, files, or external systems — and you can control how much detail is shown using different logging levels such as DEBUG, INFO, WARNING, ERROR, and CRITICAL."
      ],
      "metadata": {
        "id": "pq5AHRxFgKDL"
      }
    },
    {
      "cell_type": "markdown",
      "source": [
        "# **22.  What is the os module in Python used for in file handling**\n",
        "\n",
        "The os module in Python is used for interacting with the operating system, and it plays a key role in file handling and directory management. It provides a wide range of functions that allow you to perform operations such as creating, deleting, renaming, and moving files and folders. With the os module, you can also check if a file or directory exists, list the contents of a directory, get the current working directory, and change directories"
      ],
      "metadata": {
        "id": "M5011uXJi-Yk"
      }
    },
    {
      "cell_type": "markdown",
      "source": [
        "# **23.  What are the challenges associated with memory management in Python**\n",
        "\n",
        "Memory management in Python is largely automatic thanks to features like reference counting and garbage collection, but there are still several challenges that developers may encounter, especially in large or long-running applications.\n",
        "\n",
        "One major challenge is reference cycles, where two or more objects reference each other, preventing their reference count from reaching zero. Although Python's garbage collector can detect and clean up these cycles, it doesn't always do so immediately, which can lead to delayed memory release.\n",
        "\n",
        "Another issue is memory leaks, which occur when objects are unintentionally kept alive by lingering references in the program. These leaks may gradually increase memory usage over time, leading to performance issues. Developers often struggle to identify and resolve such hidden references.\n",
        "\n",
        "Additionally, Python objects carry extra memory overhead due to their dynamic and flexible nature, especially with built-in data structures like lists and dictionaries. This overhead becomes significant in memory-intensive tasks such as data analysis or high-performance computing, where managing large amounts of data efficiently is critical."
      ],
      "metadata": {
        "id": "pSkXNQxsjGzR"
      }
    },
    {
      "cell_type": "markdown",
      "source": [
        "# **24. How do you raise an exception manually in Python**\n",
        "\n",
        "In Python, you can raise an exception manually using the raise keyword followed by an exception class or instance. This is typically done when you want to signal that an error condition has occurred during program execution"
      ],
      "metadata": {
        "id": "_1a9dtX8jPjq"
      }
    },
    {
      "cell_type": "markdown",
      "source": [
        "# **25.  Why is it important to use multithreading in certain applications?**\n",
        "\n",
        "Multithreading is important in certain applications because it allows a program to perform multiple tasks concurrently, which can lead to better performance, responsiveness, and resource utilization — especially in programs that involve I/O-bound operations or tasks that can run independently.\n",
        "\n",
        "Multithreading also helps in maximizing CPU usage when one thread is blocked waiting for input/output; other threads can continue executing, making the program feel faster and more efficient. It's particularly useful in situations where tasks can be parallelized, such as downloading multiple files, handling simultaneous database queries, or monitoring sensors in real time"
      ],
      "metadata": {
        "id": "5jwLLQZBjb6J"
      }
    },
    {
      "cell_type": "markdown",
      "source": [
        "# **Practical Questions**"
      ],
      "metadata": {
        "id": "Lu6hKVDmjk_b"
      }
    },
    {
      "cell_type": "markdown",
      "source": [
        "# **1. How can you open a file for writing in Python and write a string to it**"
      ],
      "metadata": {
        "id": "rdPgQXO3jswR"
      }
    },
    {
      "cell_type": "code",
      "source": [
        "with open(\"filename.txt\", \"w\") as file:\n",
        "    file.write(\"This is the text to write.\")"
      ],
      "metadata": {
        "id": "7g1DcDF0j74n"
      },
      "execution_count": 9,
      "outputs": []
    },
    {
      "cell_type": "markdown",
      "source": [
        "# **2. Write a Python program to read the contents of a file and print each line**"
      ],
      "metadata": {
        "id": "ThbERnemj1Ul"
      }
    },
    {
      "cell_type": "code",
      "source": [
        "with open(\"example.txt\", \"r\") as file:\n",
        "    # Loop through each line in the file\n",
        "    for line in file:\n",
        "\n",
        "        print(line, end=\"\")"
      ],
      "metadata": {
        "colab": {
          "base_uri": "https://localhost:8080/"
        },
        "id": "7Mh4frcakCou",
        "outputId": "96f45dba-7ca1-4159-9408-abe1a4c6b831"
      },
      "execution_count": 11,
      "outputs": [
        {
          "output_type": "stream",
          "name": "stdout",
          "text": [
            "Hello, this is a test message."
          ]
        }
      ]
    },
    {
      "cell_type": "markdown",
      "source": [
        "# **How would you handle a case where the file doesn't exist while trying to open it for reading**"
      ],
      "metadata": {
        "id": "ZyASO4ljkW4F"
      }
    },
    {
      "cell_type": "code",
      "source": [
        "try:\n",
        "    with open(\"example.txt\", \"r\") as file:\n",
        "        for line in file:\n",
        "            print(line, end=\"\")\n",
        "except FileNotFoundError:\n",
        "    print(\"Error: The file does not exist.\")"
      ],
      "metadata": {
        "colab": {
          "base_uri": "https://localhost:8080/"
        },
        "id": "Z64t1MxbkbEk",
        "outputId": "044f4836-26f6-4cc1-8014-e36be032d428"
      },
      "execution_count": 12,
      "outputs": [
        {
          "output_type": "stream",
          "name": "stdout",
          "text": [
            "Hello, this is a test message."
          ]
        }
      ]
    },
    {
      "cell_type": "markdown",
      "source": [
        "# **4. Write a Python script that reads from one file and writes its content to another file**"
      ],
      "metadata": {
        "id": "RfhxdjCgkf65"
      }
    },
    {
      "cell_type": "code",
      "source": [
        "try:\n",
        "    with open(\"source.txt\", \"r\") as source_file, open(\"destination.txt\", \"w\") as dest_file:\n",
        "        for line in source_file:\n",
        "            dest_file.write(line)\n",
        "except FileNotFoundError:\n",
        "    print(\"Error: The source file was not found.\")"
      ],
      "metadata": {
        "colab": {
          "base_uri": "https://localhost:8080/"
        },
        "id": "fX5-jP0mkffx",
        "outputId": "53295d11-05e5-4e6b-958d-8fb1f369b04a"
      },
      "execution_count": 14,
      "outputs": [
        {
          "output_type": "stream",
          "name": "stdout",
          "text": [
            "Error: The source file was not found.\n"
          ]
        }
      ]
    },
    {
      "cell_type": "markdown",
      "source": [
        "# **5. How would you catch and handle division by zero error in Python**"
      ],
      "metadata": {
        "id": "Iiv1L477kv2p"
      }
    },
    {
      "cell_type": "code",
      "source": [
        "try:\n",
        "    numerator = 10\n",
        "    denominator = 0\n",
        "    result = numerator / denominator\n",
        "    print(\"Result:\", result)\n",
        "except ZeroDivisionError:\n",
        "    print(\"Error: Cannot divide by zero.\")"
      ],
      "metadata": {
        "colab": {
          "base_uri": "https://localhost:8080/"
        },
        "id": "if7h8IwskwLc",
        "outputId": "fe89d466-2554-43a6-df32-00385cea01c9"
      },
      "execution_count": 15,
      "outputs": [
        {
          "output_type": "stream",
          "name": "stdout",
          "text": [
            "Error: Cannot divide by zero.\n"
          ]
        }
      ]
    },
    {
      "cell_type": "markdown",
      "source": [
        "# **6.  Write a Python program that logs an error message to a log file when a division by zero exception occurs**"
      ],
      "metadata": {
        "id": "FsTKO_V1lC53"
      }
    },
    {
      "cell_type": "code",
      "source": [
        "import logging\n",
        "logging.basicConfig(filename=\"log.txt\", level=logging.ERROR)\n",
        "\n",
        "try:\n",
        "    result = 10 / 0\n",
        "except ZeroDivisionError:\n",
        "    logging.error(\"You tried to divide by zero.\")\n",
        "    print(\"Error: Cannot divide by zero. Check log.txt.\")"
      ],
      "metadata": {
        "colab": {
          "base_uri": "https://localhost:8080/"
        },
        "id": "JFytdbqqlJX3",
        "outputId": "0ca04613-4fcd-491a-f40e-e74bac6eb4f0"
      },
      "execution_count": 17,
      "outputs": [
        {
          "output_type": "stream",
          "name": "stderr",
          "text": [
            "ERROR:root:You tried to divide by zero.\n"
          ]
        },
        {
          "output_type": "stream",
          "name": "stdout",
          "text": [
            "Error: Cannot divide by zero. Check log.txt.\n"
          ]
        }
      ]
    },
    {
      "cell_type": "markdown",
      "source": [
        "# **7.  How do you log information at different levels (INFO, ERROR, WARNING) in Python using the logging module**"
      ],
      "metadata": {
        "id": "M4_3lbGVlR1g"
      }
    },
    {
      "cell_type": "code",
      "source": [
        "import logging\n",
        "\n",
        "\n",
        "logging.basicConfig(level=logging.INFO)\n",
        "\n",
        "\n",
        "logging.info(\"This is an info message.\")\n",
        "logging.warning(\"This is a warning message.\")\n",
        "logging.error(\"This is an error message.\")"
      ],
      "metadata": {
        "colab": {
          "base_uri": "https://localhost:8080/"
        },
        "id": "VJsEjeBOlU_p",
        "outputId": "83495991-60ea-4c5a-b643-c6a775a1c18b"
      },
      "execution_count": 19,
      "outputs": [
        {
          "output_type": "stream",
          "name": "stderr",
          "text": [
            "WARNING:root:This is a warning message.\n",
            "ERROR:root:This is an error message.\n"
          ]
        }
      ]
    },
    {
      "cell_type": "markdown",
      "source": [
        "# **8. Write a program to handle a file opening error using exception handling**"
      ],
      "metadata": {
        "id": "HHpQBsv4lbRe"
      }
    },
    {
      "cell_type": "code",
      "source": [
        "try:\n",
        "\n",
        "    with open(\"myfile.txt\", \"r\") as file:\n",
        "        content = file.read()\n",
        "        print(content)\n",
        "except FileNotFoundError:\n",
        "    print(\"Error: The file was not found.\")"
      ],
      "metadata": {
        "colab": {
          "base_uri": "https://localhost:8080/"
        },
        "id": "rcajO2UflgQd",
        "outputId": "3e51ff7c-770c-44f5-a1ab-be1bd76632c9"
      },
      "execution_count": 20,
      "outputs": [
        {
          "output_type": "stream",
          "name": "stdout",
          "text": [
            "Error: The file was not found.\n"
          ]
        }
      ]
    },
    {
      "cell_type": "markdown",
      "source": [
        "# **9.  How can you read a file line by line and store its content in a list in Python**"
      ],
      "metadata": {
        "id": "P2hpWPtwlkb-"
      }
    },
    {
      "cell_type": "code",
      "source": [
        "with open(\"example.txt\", \"r\") as file:\n",
        "    lines = file.readlines()"
      ],
      "metadata": {
        "id": "45ZEvwpcloNJ"
      },
      "execution_count": 22,
      "outputs": []
    },
    {
      "cell_type": "markdown",
      "source": [
        "# **10. How can you append data to an existing file in Python**"
      ],
      "metadata": {
        "id": "T9e8JDQXlwiZ"
      }
    },
    {
      "cell_type": "code",
      "source": [
        "with open(\"example.txt\", \"a\") as file:\n",
        "    file.write(\"This is a new line of text.\\n\")"
      ],
      "metadata": {
        "id": "-G6Q9ondl0G5"
      },
      "execution_count": 23,
      "outputs": []
    },
    {
      "cell_type": "code",
      "source": [
        "with open(\"example.txt\", \"a\") as file:\n",
        "    lines = [\"First line\\n\", \"Second line\\n\"]\n",
        "    file.writelines(lines)"
      ],
      "metadata": {
        "id": "vOK0HxFIl4x9"
      },
      "execution_count": 24,
      "outputs": []
    },
    {
      "cell_type": "markdown",
      "source": [
        "# **11.  Write a Python program that uses a try-except block to handle an error when attempting to access a dictionary key that doesn't exist**"
      ],
      "metadata": {
        "id": "pDRiR3F8l6Cd"
      }
    },
    {
      "cell_type": "code",
      "source": [
        "my_dict = {\"name\": \"Alice\", \"age\": 25}\n",
        "\n",
        "try:\n",
        "\n",
        "    print(\"City:\", my_dict[\"city\"])\n",
        "except KeyError:\n",
        "    print(\"Error: The key 'city' does not exist in the dictionary.\")"
      ],
      "metadata": {
        "colab": {
          "base_uri": "https://localhost:8080/"
        },
        "id": "rU48U24zl-iM",
        "outputId": "6d023c25-893b-4650-a191-61a521dd51b4"
      },
      "execution_count": 26,
      "outputs": [
        {
          "output_type": "stream",
          "name": "stdout",
          "text": [
            "Error: The key 'city' does not exist in the dictionary.\n"
          ]
        }
      ]
    },
    {
      "cell_type": "markdown",
      "source": [
        "# **12.  Write a program that demonstrates using multiple except blocks to handle different types of exceptions**"
      ],
      "metadata": {
        "id": "mPF9R0cnmFT1"
      }
    },
    {
      "cell_type": "code",
      "source": [
        "try:\n",
        "    num = int(input(\"Enter a number: \"))\n",
        "    result = 10 / num\n",
        "    print(\"Result is:\", result)\n",
        "\n",
        "    my_list = [1, 2, 3]\n",
        "    print(\"Fourth item:\", my_list[3])\n",
        "\n",
        "except ZeroDivisionError:\n",
        "    print(\"Error: Cannot divide by zero.\")\n",
        "\n",
        "except ValueError:\n",
        "    print(\"Error: Invalid input. Please enter a number.\")\n",
        "\n",
        "except IndexError:\n",
        "    print(\"Error: List index out of range.\")\n",
        "\n",
        "except Exception as e:\n",
        "    print(\"An unexpected error occurred:\", e)"
      ],
      "metadata": {
        "colab": {
          "base_uri": "https://localhost:8080/"
        },
        "id": "8MDKtmTTmIs5",
        "outputId": "3c4831d4-c5e7-4bfd-cdc1-960525005709"
      },
      "execution_count": 27,
      "outputs": [
        {
          "output_type": "stream",
          "name": "stdout",
          "text": [
            "Enter a number: 55\n",
            "Result is: 0.18181818181818182\n",
            "Error: List index out of range.\n"
          ]
        }
      ]
    },
    {
      "cell_type": "markdown",
      "source": [
        "# **13.  How would you check if a file exists before attempting to read it in Python**"
      ],
      "metadata": {
        "id": "CM_iIxthmOny"
      }
    },
    {
      "cell_type": "code",
      "source": [
        "import os\n",
        "\n",
        "file_path = \"example.txt\"\n",
        "\n",
        "if os.path.exists(file_path):\n",
        "    with open(file_path, \"r\") as file:\n",
        "        content = file.read()\n",
        "        print(content)\n",
        "else:\n",
        "    print(\"File does not exist.\")"
      ],
      "metadata": {
        "colab": {
          "base_uri": "https://localhost:8080/"
        },
        "id": "N9q-5Yv5mSEP",
        "outputId": "965cd4a1-1de8-4821-965a-1b030e97c5f0"
      },
      "execution_count": 28,
      "outputs": [
        {
          "output_type": "stream",
          "name": "stdout",
          "text": [
            "Hello, this is a test message.This is a new line of text.\n",
            "First line\n",
            "Second line\n",
            "\n"
          ]
        }
      ]
    },
    {
      "cell_type": "markdown",
      "source": [
        "# **14.  Write a program that uses the logging module to log both informational and error messages**"
      ],
      "metadata": {
        "id": "uJKHK9MamVdW"
      }
    },
    {
      "cell_type": "code",
      "source": [
        "import logging\n",
        "\n",
        "logging.basicConfig(filename='log.txt', level=logging.INFO)\n",
        "\n",
        "logging.info(\"Program started\")\n",
        "\n",
        "try:\n",
        "    result = 10 / int(input(\"Enter a number: \"))\n",
        "    logging.info(\"Result: %s\", result)\n",
        "except ZeroDivisionError:\n",
        "    logging.error(\"Cannot divide by zero\")\n",
        "except ValueError:\n",
        "    logging.error(\"Invalid input\")\n",
        "\n",
        "logging.info(\"Program ended\")\n"
      ],
      "metadata": {
        "colab": {
          "base_uri": "https://localhost:8080/"
        },
        "id": "YZZpRdk9mZDI",
        "outputId": "1c9072b8-d7fb-493d-cd34-979d23a475c1"
      },
      "execution_count": 31,
      "outputs": [
        {
          "name": "stdout",
          "output_type": "stream",
          "text": [
            "Enter a number: 0\n"
          ]
        },
        {
          "output_type": "stream",
          "name": "stderr",
          "text": [
            "ERROR:root:Cannot divide by zero\n"
          ]
        }
      ]
    },
    {
      "cell_type": "markdown",
      "source": [
        "# **15. Write a Python program that prints the content of a file and handles the case when the file is empty**"
      ],
      "metadata": {
        "id": "RL8VOybdmlbA"
      }
    },
    {
      "cell_type": "code",
      "source": [
        "try:\n",
        "    with open(\"example.txt\", \"r\") as file:\n",
        "        content = file.read()\n",
        "        if content.strip() == \"\":\n",
        "            print(\"The file is empty.\")\n",
        "        else:\n",
        "            print(\"File content:\\n\", content)\n",
        "except FileNotFoundError:\n",
        "    print(\"Error: The file does not exist.\")"
      ],
      "metadata": {
        "colab": {
          "base_uri": "https://localhost:8080/"
        },
        "id": "i4gLwfATmpAL",
        "outputId": "b601ef91-539b-4d2e-dff3-8cfab568bf79"
      },
      "execution_count": 32,
      "outputs": [
        {
          "output_type": "stream",
          "name": "stdout",
          "text": [
            "File content:\n",
            " Hello, this is a test message.This is a new line of text.\n",
            "First line\n",
            "Second line\n",
            "\n"
          ]
        }
      ]
    },
    {
      "cell_type": "markdown",
      "source": [
        "# **16. Demonstrate how to use memory profiling to check the memory usage of a small program**"
      ],
      "metadata": {
        "id": "eXmmB3rsmtLj"
      }
    },
    {
      "cell_type": "code",
      "source": [
        "pip install memory-profiler"
      ],
      "metadata": {
        "colab": {
          "base_uri": "https://localhost:8080/"
        },
        "id": "SKGZASUNmwe9",
        "outputId": "d3697e5c-3d1d-4416-8891-a8c8049a1687"
      },
      "execution_count": 37,
      "outputs": [
        {
          "output_type": "stream",
          "name": "stdout",
          "text": [
            "Requirement already satisfied: memory-profiler in /usr/local/lib/python3.11/dist-packages (0.61.0)\n",
            "Requirement already satisfied: psutil in /usr/local/lib/python3.11/dist-packages (from memory-profiler) (5.9.5)\n"
          ]
        }
      ]
    },
    {
      "cell_type": "code",
      "source": [
        "from memory_profiler import profile\n",
        "\n",
        "@profile\n",
        "def create_list():\n",
        "    data = [i for i in range(100000)]\n",
        "    return data\n",
        "\n",
        "create_list()"
      ],
      "metadata": {
        "colab": {
          "base_uri": "https://localhost:8080/"
        },
        "collapsed": true,
        "id": "OLy55Oqxm4jj",
        "outputId": "293ba90d-a0f5-4821-e529-35e3f0f749d1"
      },
      "execution_count": 36,
      "outputs": [
        {
          "output_type": "stream",
          "name": "stdout",
          "text": [
            "ERROR: Could not find file /tmp/ipython-input-3136863818.py\n"
          ]
        },
        {
          "output_type": "execute_result",
          "data": {
            "text/plain": [
              "[0,\n",
              " 1,\n",
              " 2,\n",
              " 3,\n",
              " 4,\n",
              " 5,\n",
              " 6,\n",
              " 7,\n",
              " 8,\n",
              " 9,\n",
              " 10,\n",
              " 11,\n",
              " 12,\n",
              " 13,\n",
              " 14,\n",
              " 15,\n",
              " 16,\n",
              " 17,\n",
              " 18,\n",
              " 19,\n",
              " 20,\n",
              " 21,\n",
              " 22,\n",
              " 23,\n",
              " 24,\n",
              " 25,\n",
              " 26,\n",
              " 27,\n",
              " 28,\n",
              " 29,\n",
              " 30,\n",
              " 31,\n",
              " 32,\n",
              " 33,\n",
              " 34,\n",
              " 35,\n",
              " 36,\n",
              " 37,\n",
              " 38,\n",
              " 39,\n",
              " 40,\n",
              " 41,\n",
              " 42,\n",
              " 43,\n",
              " 44,\n",
              " 45,\n",
              " 46,\n",
              " 47,\n",
              " 48,\n",
              " 49,\n",
              " 50,\n",
              " 51,\n",
              " 52,\n",
              " 53,\n",
              " 54,\n",
              " 55,\n",
              " 56,\n",
              " 57,\n",
              " 58,\n",
              " 59,\n",
              " 60,\n",
              " 61,\n",
              " 62,\n",
              " 63,\n",
              " 64,\n",
              " 65,\n",
              " 66,\n",
              " 67,\n",
              " 68,\n",
              " 69,\n",
              " 70,\n",
              " 71,\n",
              " 72,\n",
              " 73,\n",
              " 74,\n",
              " 75,\n",
              " 76,\n",
              " 77,\n",
              " 78,\n",
              " 79,\n",
              " 80,\n",
              " 81,\n",
              " 82,\n",
              " 83,\n",
              " 84,\n",
              " 85,\n",
              " 86,\n",
              " 87,\n",
              " 88,\n",
              " 89,\n",
              " 90,\n",
              " 91,\n",
              " 92,\n",
              " 93,\n",
              " 94,\n",
              " 95,\n",
              " 96,\n",
              " 97,\n",
              " 98,\n",
              " 99,\n",
              " 100,\n",
              " 101,\n",
              " 102,\n",
              " 103,\n",
              " 104,\n",
              " 105,\n",
              " 106,\n",
              " 107,\n",
              " 108,\n",
              " 109,\n",
              " 110,\n",
              " 111,\n",
              " 112,\n",
              " 113,\n",
              " 114,\n",
              " 115,\n",
              " 116,\n",
              " 117,\n",
              " 118,\n",
              " 119,\n",
              " 120,\n",
              " 121,\n",
              " 122,\n",
              " 123,\n",
              " 124,\n",
              " 125,\n",
              " 126,\n",
              " 127,\n",
              " 128,\n",
              " 129,\n",
              " 130,\n",
              " 131,\n",
              " 132,\n",
              " 133,\n",
              " 134,\n",
              " 135,\n",
              " 136,\n",
              " 137,\n",
              " 138,\n",
              " 139,\n",
              " 140,\n",
              " 141,\n",
              " 142,\n",
              " 143,\n",
              " 144,\n",
              " 145,\n",
              " 146,\n",
              " 147,\n",
              " 148,\n",
              " 149,\n",
              " 150,\n",
              " 151,\n",
              " 152,\n",
              " 153,\n",
              " 154,\n",
              " 155,\n",
              " 156,\n",
              " 157,\n",
              " 158,\n",
              " 159,\n",
              " 160,\n",
              " 161,\n",
              " 162,\n",
              " 163,\n",
              " 164,\n",
              " 165,\n",
              " 166,\n",
              " 167,\n",
              " 168,\n",
              " 169,\n",
              " 170,\n",
              " 171,\n",
              " 172,\n",
              " 173,\n",
              " 174,\n",
              " 175,\n",
              " 176,\n",
              " 177,\n",
              " 178,\n",
              " 179,\n",
              " 180,\n",
              " 181,\n",
              " 182,\n",
              " 183,\n",
              " 184,\n",
              " 185,\n",
              " 186,\n",
              " 187,\n",
              " 188,\n",
              " 189,\n",
              " 190,\n",
              " 191,\n",
              " 192,\n",
              " 193,\n",
              " 194,\n",
              " 195,\n",
              " 196,\n",
              " 197,\n",
              " 198,\n",
              " 199,\n",
              " 200,\n",
              " 201,\n",
              " 202,\n",
              " 203,\n",
              " 204,\n",
              " 205,\n",
              " 206,\n",
              " 207,\n",
              " 208,\n",
              " 209,\n",
              " 210,\n",
              " 211,\n",
              " 212,\n",
              " 213,\n",
              " 214,\n",
              " 215,\n",
              " 216,\n",
              " 217,\n",
              " 218,\n",
              " 219,\n",
              " 220,\n",
              " 221,\n",
              " 222,\n",
              " 223,\n",
              " 224,\n",
              " 225,\n",
              " 226,\n",
              " 227,\n",
              " 228,\n",
              " 229,\n",
              " 230,\n",
              " 231,\n",
              " 232,\n",
              " 233,\n",
              " 234,\n",
              " 235,\n",
              " 236,\n",
              " 237,\n",
              " 238,\n",
              " 239,\n",
              " 240,\n",
              " 241,\n",
              " 242,\n",
              " 243,\n",
              " 244,\n",
              " 245,\n",
              " 246,\n",
              " 247,\n",
              " 248,\n",
              " 249,\n",
              " 250,\n",
              " 251,\n",
              " 252,\n",
              " 253,\n",
              " 254,\n",
              " 255,\n",
              " 256,\n",
              " 257,\n",
              " 258,\n",
              " 259,\n",
              " 260,\n",
              " 261,\n",
              " 262,\n",
              " 263,\n",
              " 264,\n",
              " 265,\n",
              " 266,\n",
              " 267,\n",
              " 268,\n",
              " 269,\n",
              " 270,\n",
              " 271,\n",
              " 272,\n",
              " 273,\n",
              " 274,\n",
              " 275,\n",
              " 276,\n",
              " 277,\n",
              " 278,\n",
              " 279,\n",
              " 280,\n",
              " 281,\n",
              " 282,\n",
              " 283,\n",
              " 284,\n",
              " 285,\n",
              " 286,\n",
              " 287,\n",
              " 288,\n",
              " 289,\n",
              " 290,\n",
              " 291,\n",
              " 292,\n",
              " 293,\n",
              " 294,\n",
              " 295,\n",
              " 296,\n",
              " 297,\n",
              " 298,\n",
              " 299,\n",
              " 300,\n",
              " 301,\n",
              " 302,\n",
              " 303,\n",
              " 304,\n",
              " 305,\n",
              " 306,\n",
              " 307,\n",
              " 308,\n",
              " 309,\n",
              " 310,\n",
              " 311,\n",
              " 312,\n",
              " 313,\n",
              " 314,\n",
              " 315,\n",
              " 316,\n",
              " 317,\n",
              " 318,\n",
              " 319,\n",
              " 320,\n",
              " 321,\n",
              " 322,\n",
              " 323,\n",
              " 324,\n",
              " 325,\n",
              " 326,\n",
              " 327,\n",
              " 328,\n",
              " 329,\n",
              " 330,\n",
              " 331,\n",
              " 332,\n",
              " 333,\n",
              " 334,\n",
              " 335,\n",
              " 336,\n",
              " 337,\n",
              " 338,\n",
              " 339,\n",
              " 340,\n",
              " 341,\n",
              " 342,\n",
              " 343,\n",
              " 344,\n",
              " 345,\n",
              " 346,\n",
              " 347,\n",
              " 348,\n",
              " 349,\n",
              " 350,\n",
              " 351,\n",
              " 352,\n",
              " 353,\n",
              " 354,\n",
              " 355,\n",
              " 356,\n",
              " 357,\n",
              " 358,\n",
              " 359,\n",
              " 360,\n",
              " 361,\n",
              " 362,\n",
              " 363,\n",
              " 364,\n",
              " 365,\n",
              " 366,\n",
              " 367,\n",
              " 368,\n",
              " 369,\n",
              " 370,\n",
              " 371,\n",
              " 372,\n",
              " 373,\n",
              " 374,\n",
              " 375,\n",
              " 376,\n",
              " 377,\n",
              " 378,\n",
              " 379,\n",
              " 380,\n",
              " 381,\n",
              " 382,\n",
              " 383,\n",
              " 384,\n",
              " 385,\n",
              " 386,\n",
              " 387,\n",
              " 388,\n",
              " 389,\n",
              " 390,\n",
              " 391,\n",
              " 392,\n",
              " 393,\n",
              " 394,\n",
              " 395,\n",
              " 396,\n",
              " 397,\n",
              " 398,\n",
              " 399,\n",
              " 400,\n",
              " 401,\n",
              " 402,\n",
              " 403,\n",
              " 404,\n",
              " 405,\n",
              " 406,\n",
              " 407,\n",
              " 408,\n",
              " 409,\n",
              " 410,\n",
              " 411,\n",
              " 412,\n",
              " 413,\n",
              " 414,\n",
              " 415,\n",
              " 416,\n",
              " 417,\n",
              " 418,\n",
              " 419,\n",
              " 420,\n",
              " 421,\n",
              " 422,\n",
              " 423,\n",
              " 424,\n",
              " 425,\n",
              " 426,\n",
              " 427,\n",
              " 428,\n",
              " 429,\n",
              " 430,\n",
              " 431,\n",
              " 432,\n",
              " 433,\n",
              " 434,\n",
              " 435,\n",
              " 436,\n",
              " 437,\n",
              " 438,\n",
              " 439,\n",
              " 440,\n",
              " 441,\n",
              " 442,\n",
              " 443,\n",
              " 444,\n",
              " 445,\n",
              " 446,\n",
              " 447,\n",
              " 448,\n",
              " 449,\n",
              " 450,\n",
              " 451,\n",
              " 452,\n",
              " 453,\n",
              " 454,\n",
              " 455,\n",
              " 456,\n",
              " 457,\n",
              " 458,\n",
              " 459,\n",
              " 460,\n",
              " 461,\n",
              " 462,\n",
              " 463,\n",
              " 464,\n",
              " 465,\n",
              " 466,\n",
              " 467,\n",
              " 468,\n",
              " 469,\n",
              " 470,\n",
              " 471,\n",
              " 472,\n",
              " 473,\n",
              " 474,\n",
              " 475,\n",
              " 476,\n",
              " 477,\n",
              " 478,\n",
              " 479,\n",
              " 480,\n",
              " 481,\n",
              " 482,\n",
              " 483,\n",
              " 484,\n",
              " 485,\n",
              " 486,\n",
              " 487,\n",
              " 488,\n",
              " 489,\n",
              " 490,\n",
              " 491,\n",
              " 492,\n",
              " 493,\n",
              " 494,\n",
              " 495,\n",
              " 496,\n",
              " 497,\n",
              " 498,\n",
              " 499,\n",
              " 500,\n",
              " 501,\n",
              " 502,\n",
              " 503,\n",
              " 504,\n",
              " 505,\n",
              " 506,\n",
              " 507,\n",
              " 508,\n",
              " 509,\n",
              " 510,\n",
              " 511,\n",
              " 512,\n",
              " 513,\n",
              " 514,\n",
              " 515,\n",
              " 516,\n",
              " 517,\n",
              " 518,\n",
              " 519,\n",
              " 520,\n",
              " 521,\n",
              " 522,\n",
              " 523,\n",
              " 524,\n",
              " 525,\n",
              " 526,\n",
              " 527,\n",
              " 528,\n",
              " 529,\n",
              " 530,\n",
              " 531,\n",
              " 532,\n",
              " 533,\n",
              " 534,\n",
              " 535,\n",
              " 536,\n",
              " 537,\n",
              " 538,\n",
              " 539,\n",
              " 540,\n",
              " 541,\n",
              " 542,\n",
              " 543,\n",
              " 544,\n",
              " 545,\n",
              " 546,\n",
              " 547,\n",
              " 548,\n",
              " 549,\n",
              " 550,\n",
              " 551,\n",
              " 552,\n",
              " 553,\n",
              " 554,\n",
              " 555,\n",
              " 556,\n",
              " 557,\n",
              " 558,\n",
              " 559,\n",
              " 560,\n",
              " 561,\n",
              " 562,\n",
              " 563,\n",
              " 564,\n",
              " 565,\n",
              " 566,\n",
              " 567,\n",
              " 568,\n",
              " 569,\n",
              " 570,\n",
              " 571,\n",
              " 572,\n",
              " 573,\n",
              " 574,\n",
              " 575,\n",
              " 576,\n",
              " 577,\n",
              " 578,\n",
              " 579,\n",
              " 580,\n",
              " 581,\n",
              " 582,\n",
              " 583,\n",
              " 584,\n",
              " 585,\n",
              " 586,\n",
              " 587,\n",
              " 588,\n",
              " 589,\n",
              " 590,\n",
              " 591,\n",
              " 592,\n",
              " 593,\n",
              " 594,\n",
              " 595,\n",
              " 596,\n",
              " 597,\n",
              " 598,\n",
              " 599,\n",
              " 600,\n",
              " 601,\n",
              " 602,\n",
              " 603,\n",
              " 604,\n",
              " 605,\n",
              " 606,\n",
              " 607,\n",
              " 608,\n",
              " 609,\n",
              " 610,\n",
              " 611,\n",
              " 612,\n",
              " 613,\n",
              " 614,\n",
              " 615,\n",
              " 616,\n",
              " 617,\n",
              " 618,\n",
              " 619,\n",
              " 620,\n",
              " 621,\n",
              " 622,\n",
              " 623,\n",
              " 624,\n",
              " 625,\n",
              " 626,\n",
              " 627,\n",
              " 628,\n",
              " 629,\n",
              " 630,\n",
              " 631,\n",
              " 632,\n",
              " 633,\n",
              " 634,\n",
              " 635,\n",
              " 636,\n",
              " 637,\n",
              " 638,\n",
              " 639,\n",
              " 640,\n",
              " 641,\n",
              " 642,\n",
              " 643,\n",
              " 644,\n",
              " 645,\n",
              " 646,\n",
              " 647,\n",
              " 648,\n",
              " 649,\n",
              " 650,\n",
              " 651,\n",
              " 652,\n",
              " 653,\n",
              " 654,\n",
              " 655,\n",
              " 656,\n",
              " 657,\n",
              " 658,\n",
              " 659,\n",
              " 660,\n",
              " 661,\n",
              " 662,\n",
              " 663,\n",
              " 664,\n",
              " 665,\n",
              " 666,\n",
              " 667,\n",
              " 668,\n",
              " 669,\n",
              " 670,\n",
              " 671,\n",
              " 672,\n",
              " 673,\n",
              " 674,\n",
              " 675,\n",
              " 676,\n",
              " 677,\n",
              " 678,\n",
              " 679,\n",
              " 680,\n",
              " 681,\n",
              " 682,\n",
              " 683,\n",
              " 684,\n",
              " 685,\n",
              " 686,\n",
              " 687,\n",
              " 688,\n",
              " 689,\n",
              " 690,\n",
              " 691,\n",
              " 692,\n",
              " 693,\n",
              " 694,\n",
              " 695,\n",
              " 696,\n",
              " 697,\n",
              " 698,\n",
              " 699,\n",
              " 700,\n",
              " 701,\n",
              " 702,\n",
              " 703,\n",
              " 704,\n",
              " 705,\n",
              " 706,\n",
              " 707,\n",
              " 708,\n",
              " 709,\n",
              " 710,\n",
              " 711,\n",
              " 712,\n",
              " 713,\n",
              " 714,\n",
              " 715,\n",
              " 716,\n",
              " 717,\n",
              " 718,\n",
              " 719,\n",
              " 720,\n",
              " 721,\n",
              " 722,\n",
              " 723,\n",
              " 724,\n",
              " 725,\n",
              " 726,\n",
              " 727,\n",
              " 728,\n",
              " 729,\n",
              " 730,\n",
              " 731,\n",
              " 732,\n",
              " 733,\n",
              " 734,\n",
              " 735,\n",
              " 736,\n",
              " 737,\n",
              " 738,\n",
              " 739,\n",
              " 740,\n",
              " 741,\n",
              " 742,\n",
              " 743,\n",
              " 744,\n",
              " 745,\n",
              " 746,\n",
              " 747,\n",
              " 748,\n",
              " 749,\n",
              " 750,\n",
              " 751,\n",
              " 752,\n",
              " 753,\n",
              " 754,\n",
              " 755,\n",
              " 756,\n",
              " 757,\n",
              " 758,\n",
              " 759,\n",
              " 760,\n",
              " 761,\n",
              " 762,\n",
              " 763,\n",
              " 764,\n",
              " 765,\n",
              " 766,\n",
              " 767,\n",
              " 768,\n",
              " 769,\n",
              " 770,\n",
              " 771,\n",
              " 772,\n",
              " 773,\n",
              " 774,\n",
              " 775,\n",
              " 776,\n",
              " 777,\n",
              " 778,\n",
              " 779,\n",
              " 780,\n",
              " 781,\n",
              " 782,\n",
              " 783,\n",
              " 784,\n",
              " 785,\n",
              " 786,\n",
              " 787,\n",
              " 788,\n",
              " 789,\n",
              " 790,\n",
              " 791,\n",
              " 792,\n",
              " 793,\n",
              " 794,\n",
              " 795,\n",
              " 796,\n",
              " 797,\n",
              " 798,\n",
              " 799,\n",
              " 800,\n",
              " 801,\n",
              " 802,\n",
              " 803,\n",
              " 804,\n",
              " 805,\n",
              " 806,\n",
              " 807,\n",
              " 808,\n",
              " 809,\n",
              " 810,\n",
              " 811,\n",
              " 812,\n",
              " 813,\n",
              " 814,\n",
              " 815,\n",
              " 816,\n",
              " 817,\n",
              " 818,\n",
              " 819,\n",
              " 820,\n",
              " 821,\n",
              " 822,\n",
              " 823,\n",
              " 824,\n",
              " 825,\n",
              " 826,\n",
              " 827,\n",
              " 828,\n",
              " 829,\n",
              " 830,\n",
              " 831,\n",
              " 832,\n",
              " 833,\n",
              " 834,\n",
              " 835,\n",
              " 836,\n",
              " 837,\n",
              " 838,\n",
              " 839,\n",
              " 840,\n",
              " 841,\n",
              " 842,\n",
              " 843,\n",
              " 844,\n",
              " 845,\n",
              " 846,\n",
              " 847,\n",
              " 848,\n",
              " 849,\n",
              " 850,\n",
              " 851,\n",
              " 852,\n",
              " 853,\n",
              " 854,\n",
              " 855,\n",
              " 856,\n",
              " 857,\n",
              " 858,\n",
              " 859,\n",
              " 860,\n",
              " 861,\n",
              " 862,\n",
              " 863,\n",
              " 864,\n",
              " 865,\n",
              " 866,\n",
              " 867,\n",
              " 868,\n",
              " 869,\n",
              " 870,\n",
              " 871,\n",
              " 872,\n",
              " 873,\n",
              " 874,\n",
              " 875,\n",
              " 876,\n",
              " 877,\n",
              " 878,\n",
              " 879,\n",
              " 880,\n",
              " 881,\n",
              " 882,\n",
              " 883,\n",
              " 884,\n",
              " 885,\n",
              " 886,\n",
              " 887,\n",
              " 888,\n",
              " 889,\n",
              " 890,\n",
              " 891,\n",
              " 892,\n",
              " 893,\n",
              " 894,\n",
              " 895,\n",
              " 896,\n",
              " 897,\n",
              " 898,\n",
              " 899,\n",
              " 900,\n",
              " 901,\n",
              " 902,\n",
              " 903,\n",
              " 904,\n",
              " 905,\n",
              " 906,\n",
              " 907,\n",
              " 908,\n",
              " 909,\n",
              " 910,\n",
              " 911,\n",
              " 912,\n",
              " 913,\n",
              " 914,\n",
              " 915,\n",
              " 916,\n",
              " 917,\n",
              " 918,\n",
              " 919,\n",
              " 920,\n",
              " 921,\n",
              " 922,\n",
              " 923,\n",
              " 924,\n",
              " 925,\n",
              " 926,\n",
              " 927,\n",
              " 928,\n",
              " 929,\n",
              " 930,\n",
              " 931,\n",
              " 932,\n",
              " 933,\n",
              " 934,\n",
              " 935,\n",
              " 936,\n",
              " 937,\n",
              " 938,\n",
              " 939,\n",
              " 940,\n",
              " 941,\n",
              " 942,\n",
              " 943,\n",
              " 944,\n",
              " 945,\n",
              " 946,\n",
              " 947,\n",
              " 948,\n",
              " 949,\n",
              " 950,\n",
              " 951,\n",
              " 952,\n",
              " 953,\n",
              " 954,\n",
              " 955,\n",
              " 956,\n",
              " 957,\n",
              " 958,\n",
              " 959,\n",
              " 960,\n",
              " 961,\n",
              " 962,\n",
              " 963,\n",
              " 964,\n",
              " 965,\n",
              " 966,\n",
              " 967,\n",
              " 968,\n",
              " 969,\n",
              " 970,\n",
              " 971,\n",
              " 972,\n",
              " 973,\n",
              " 974,\n",
              " 975,\n",
              " 976,\n",
              " 977,\n",
              " 978,\n",
              " 979,\n",
              " 980,\n",
              " 981,\n",
              " 982,\n",
              " 983,\n",
              " 984,\n",
              " 985,\n",
              " 986,\n",
              " 987,\n",
              " 988,\n",
              " 989,\n",
              " 990,\n",
              " 991,\n",
              " 992,\n",
              " 993,\n",
              " 994,\n",
              " 995,\n",
              " 996,\n",
              " 997,\n",
              " 998,\n",
              " 999,\n",
              " ...]"
            ]
          },
          "metadata": {},
          "execution_count": 36
        }
      ]
    },
    {
      "cell_type": "code",
      "source": [
        "# Save this code in a file, for example: memory_test.py\n",
        "# Run the profiler\n",
        "# Use the terminal or command prompt to run:"
      ],
      "metadata": {
        "id": "ox19ThKhm-iC"
      },
      "execution_count": 38,
      "outputs": []
    },
    {
      "cell_type": "markdown",
      "source": [
        "# **17.  Write a Python program to create and write a list of numbers to a file, one number per line**"
      ],
      "metadata": {
        "id": "pkWWmVU_nScS"
      }
    },
    {
      "cell_type": "code",
      "source": [
        "numbers = [1, 2, 3, 4, 5]\n",
        "\n",
        "with open(\"numbers.txt\", \"w\") as file:\n",
        "    for num in numbers:\n",
        "        file.write(str(num) + \"\\n\")\n",
        "\n",
        "print(\"Numbers written to numbers.txt\")"
      ],
      "metadata": {
        "colab": {
          "base_uri": "https://localhost:8080/"
        },
        "id": "3tkeLrU-nVrG",
        "outputId": "6b17c99e-abbb-41d6-fc23-01360dabb3be"
      },
      "execution_count": 39,
      "outputs": [
        {
          "output_type": "stream",
          "name": "stdout",
          "text": [
            "Numbers written to numbers.txt\n"
          ]
        }
      ]
    },
    {
      "cell_type": "markdown",
      "source": [
        "# **18.  How would you implement a basic logging setup that logs to a file with rotation after 1MB**"
      ],
      "metadata": {
        "id": "M3ZwkBUSnbGF"
      }
    },
    {
      "cell_type": "code",
      "source": [
        "import logging\n",
        "from logging.handlers import RotatingFileHandler\n",
        "\n",
        "# Create a logger\n",
        "logger = logging.getLogger(\"my_logger\")\n",
        "logger.setLevel(logging.INFO)\n",
        "\n",
        "# Create a rotating file handler (1MB max per file, keep 3 backups)\n",
        "handler = RotatingFileHandler(\"app.log\", maxBytes=1_000_000, backupCount=3)\n",
        "handler.setLevel(logging.INFO)\n",
        "\n",
        "# Set a basic formatter\n",
        "formatter = logging.Formatter('%(asctime)s - %(levelname)s - %(message)s')\n",
        "handler.setFormatter(formatter)\n",
        "\n",
        "# Add the handler to the logger\n",
        "logger.addHandler(handler)\n",
        "\n",
        "# Example usage\n",
        "logger.info(\"This is an informational message.\")\n",
        "logger.error(\"This is an error message.\")\n"
      ],
      "metadata": {
        "colab": {
          "base_uri": "https://localhost:8080/"
        },
        "id": "HnsZ6suPneft",
        "outputId": "6c53f4d8-b6ec-49b9-c32f-9d11b5434888"
      },
      "execution_count": 40,
      "outputs": [
        {
          "output_type": "stream",
          "name": "stderr",
          "text": [
            "INFO:my_logger:This is an informational message.\n",
            "ERROR:my_logger:This is an error message.\n"
          ]
        }
      ]
    },
    {
      "cell_type": "markdown",
      "source": [
        "# **19. Write a program that handles both IndexError and KeyError using a try-except block**"
      ],
      "metadata": {
        "id": "EHhdolEnnjGj"
      }
    },
    {
      "cell_type": "code",
      "source": [
        "my_list = [10, 20, 30]\n",
        "my_dict = {\"name\": \"Alice\", \"age\": 25}\n",
        "\n",
        "try:\n",
        "    print(\"List item:\", my_list[5])\n",
        "    print(\"City:\", my_dict[\"city\"])\n",
        "\n",
        "except IndexError:\n",
        "    print(\"Error: List index is out of range.\")\n",
        "\n",
        "except KeyError:\n",
        "    print(\"Error: Dictionary key not found.\")"
      ],
      "metadata": {
        "colab": {
          "base_uri": "https://localhost:8080/"
        },
        "id": "T5cRnppCnmF-",
        "outputId": "8a5e1dbd-43e0-4a79-9207-ecf0de510c5e"
      },
      "execution_count": 41,
      "outputs": [
        {
          "output_type": "stream",
          "name": "stdout",
          "text": [
            "Error: List index is out of range.\n"
          ]
        }
      ]
    },
    {
      "cell_type": "markdown",
      "source": [
        "# **20. How would you open a file and read its contents using a context manager in Python**"
      ],
      "metadata": {
        "id": "Bdl3bodEnr18"
      }
    },
    {
      "cell_type": "code",
      "source": [
        "with open(\"example.txt\", \"r\") as file:\n",
        "    content = file.read()\n",
        "    print(content)"
      ],
      "metadata": {
        "colab": {
          "base_uri": "https://localhost:8080/"
        },
        "id": "1NGtqSAlnuoy",
        "outputId": "df0fee2f-f8d8-4123-d0e2-90360ceb0e41"
      },
      "execution_count": 42,
      "outputs": [
        {
          "output_type": "stream",
          "name": "stdout",
          "text": [
            "Hello, this is a test message.This is a new line of text.\n",
            "First line\n",
            "Second line\n",
            "\n"
          ]
        }
      ]
    },
    {
      "cell_type": "markdown",
      "source": [
        "# **21. Write a Python program that reads a file and prints the number of occurrences of a specific word**"
      ],
      "metadata": {
        "id": "sLOCMwfQnxq4"
      }
    },
    {
      "cell_type": "code",
      "source": [
        "def count_word_occurrences(filename, word):\n",
        "    try:\n",
        "        with open(filename, \"r\") as file:\n",
        "            content = file.read()\n",
        "            count = content.lower().split().count(word.lower())\n",
        "            print(f\"The word '{word}' occurs {count} times.\")\n",
        "    except FileNotFoundError:\n",
        "        print(\"Error: The file does not exist.\")\n",
        "\n",
        "\n",
        "count_word_occurrences(\"example.txt\", \"python\")"
      ],
      "metadata": {
        "colab": {
          "base_uri": "https://localhost:8080/"
        },
        "id": "VHIUbJLJn07W",
        "outputId": "5483218d-bdc0-435b-b27a-c7cb150c0f43"
      },
      "execution_count": 43,
      "outputs": [
        {
          "output_type": "stream",
          "name": "stdout",
          "text": [
            "The word 'python' occurs 0 times.\n"
          ]
        }
      ]
    },
    {
      "cell_type": "markdown",
      "source": [
        "# **22. How can you check if a file is empty before attempting to read its contents**"
      ],
      "metadata": {
        "id": "R-_kZxdhn5jz"
      }
    },
    {
      "cell_type": "code",
      "source": [
        "import os\n",
        "\n",
        "file_path = \"example.txt\"\n",
        "\n",
        "if os.path.exists(file_path):\n",
        "    if os.path.getsize(file_path) == 0:\n",
        "        print(\"The file is empty.\")\n",
        "    else:\n",
        "        with open(file_path, \"r\") as file:\n",
        "            content = file.read()\n",
        "            print(\"File content:\\n\", content)\n",
        "else:\n",
        "    print(\"The file does not exist.\")"
      ],
      "metadata": {
        "colab": {
          "base_uri": "https://localhost:8080/"
        },
        "id": "i-ecWS0In9__",
        "outputId": "8f41d4aa-f87b-4cf6-fdda-8a24a8086ae1"
      },
      "execution_count": 44,
      "outputs": [
        {
          "output_type": "stream",
          "name": "stdout",
          "text": [
            "File content:\n",
            " Hello, this is a test message.This is a new line of text.\n",
            "First line\n",
            "Second line\n",
            "\n"
          ]
        }
      ]
    },
    {
      "cell_type": "markdown",
      "source": [
        "# **23.  Write a Python program that writes to a log file when an error occurs during file handling**."
      ],
      "metadata": {
        "id": "oD28bMzboDV5"
      }
    },
    {
      "cell_type": "code",
      "source": [
        "import logging\n",
        "\n",
        "\n",
        "logging.basicConfig(filename=\"file_errors.log\", level=logging.ERROR,\n",
        "                    format='%(asctime)s - %(levelname)s - %(message)s')\n",
        "\n",
        "try:\n",
        "    with open(\"nonexistent_file.txt\", \"r\") as file:\n",
        "        data = file.read()\n",
        "        print(data)\n",
        "except FileNotFoundError as e:\n",
        "    logging.error(\"File not found: %s\", e)\n",
        "    print(\"Error: The file could not be found.\")\n",
        "except Exception as e:\n",
        "    logging.error(\"An unexpected error occurred: %s\", e)\n",
        "    print(\"An unexpected error occurred.\")"
      ],
      "metadata": {
        "colab": {
          "base_uri": "https://localhost:8080/"
        },
        "id": "vbmUTRHboGmt",
        "outputId": "3ce60e95-5c8d-4e13-aa32-12f7ab087c75"
      },
      "execution_count": 45,
      "outputs": [
        {
          "output_type": "stream",
          "name": "stderr",
          "text": [
            "ERROR:root:File not found: [Errno 2] No such file or directory: 'nonexistent_file.txt'\n"
          ]
        },
        {
          "output_type": "stream",
          "name": "stdout",
          "text": [
            "Error: The file could not be found.\n"
          ]
        }
      ]
    }
  ]
}